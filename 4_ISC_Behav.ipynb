{
 "cells": [
  {
   "cell_type": "markdown",
   "metadata": {},
   "source": [
    "## Behavior ISC: AnnaK Method"
   ]
  },
  {
   "cell_type": "code",
   "execution_count": null,
   "metadata": {},
   "outputs": [],
   "source": [
    "%matplotlib inline\n",
    "import os\n",
    "import numpy as np\n",
    "import pandas as pd\n",
    "from scipy.stats import rankdata\n",
    "import seaborn as sns\n",
    "import matplotlib.pyplot as plt\n",
    "from jupyterthemes import jtplot\n",
    "jtplot.style(theme='grade3') \n",
    "from Function import get_tril_vec\n",
    "\n",
    "# define data repository\n",
    "data_dir = 'F:/1_Emotion_Data/Data/Behavior/Data/Social_Scale/'\n",
    "results_dir = 'F:/1_Emotion_Data/Results/0_ISC/Behav/'"
   ]
  },
  {
   "cell_type": "markdown",
   "metadata": {},
   "source": [
    "### Calculate the total score of Scale"
   ]
  },
  {
   "cell_type": "markdown",
   "metadata": {},
   "source": [
    "Neuroticism scale"
   ]
  },
  {
   "cell_type": "code",
   "execution_count": null,
   "metadata": {},
   "outputs": [],
   "source": [
    "ne = pd.read_csv(os.path.join(data_dir,'EM.csv'))\n",
    "tp = ne.iloc[:,2:]\n",
    "ne_score = tp.sum(axis=1)\n",
    "ne['sum_score'] = ne_score\n",
    "ne.to_csv(os.path.join(data_dir, 'EM.csv'))"
   ]
  },
  {
   "cell_type": "markdown",
   "metadata": {},
   "source": [
    "Interactive Mentalizing questionaire\n",
    "* Self-other: 3, 4, 5, 7, 8, 10\n",
    "* Self-self: 2, 11, 14, 15, 16, 17, 19, 20\n",
    "* Other-self: 1, 6, 9, 12, 13, 18"
   ]
  },
  {
   "cell_type": "code",
   "execution_count": null,
   "metadata": {},
   "outputs": [],
   "source": [
    "imq = pd.read_csv(os.path.join(data_dir, 'IMQ.csv'))\n",
    "so = imq['IMQ_3'] + imq['IMQ_4'] + imq['IMQ_5'] + imq['IMQ_7'] + imq['IMQ_8'] + imq['IMQ_10']\n",
    "ss = imq['IMQ_2'] + imq['IMQ_11'] + imq['IMQ_14'] + imq['IMQ_15'] + imq['IMQ_16'] + imq['IMQ_17'] + imq['IMQ_19'] + imq['IMQ_20']\n",
    "otherself = imq['IMQ_1'] + imq['IMQ_6'] + imq['IMQ_9'] + imq['IMQ_12'] + imq['IMQ_13'] + imq['IMQ_18']\n",
    "imq['SO'] = so\n",
    "imq['SS'] = ss\n",
    "imq['OS'] = otherself\n",
    "imq.to_csv(os.path.join(data_dir, 'IMQ.csv'))"
   ]
  },
  {
   "cell_type": "code",
   "execution_count": null,
   "metadata": {},
   "outputs": [],
   "source": [
    "for i in ('ag','ax', 'fe', 'hl','ha'):\n",
    "    imq = pd.read_csv(os.path.join(data_dir, i + '/' +i + '_IMQ.csv'))\n",
    "    so = imq['IMQ_3'] + imq['IMQ_4'] + imq['IMQ_5'] + imq['IMQ_7'] + imq['IMQ_8'] + imq['IMQ_10']\n",
    "    ss = imq['IMQ_2'] + imq['IMQ_11'] + imq['IMQ_14'] + imq['IMQ_15'] + imq['IMQ_16'] + imq['IMQ_17'] + imq['IMQ_19'] + imq['IMQ_20']\n",
    "    imq['SO'] = so\n",
    "    imq['SS'] = ss\n",
    "    imq.to_csv(os.path.join(data_dir, i + '/' +i + '_IMQ.csv'))\n",
    "    del imq"
   ]
  },
  {
   "cell_type": "markdown",
   "metadata": {},
   "source": [
    " Inerpersonal reactivity index\n",
    "* Fantasy: 1, 4, 6, 11, 15, 22, 25\n",
    "* Empathic concern: 2, 8, 13, 17, 19, 21\n",
    "* Personal distress: 5, 9, 12, 16, 18, 23, 26\n",
    "* Perspective taking: 3, 7, 10, 14, 20, 24, 27"
   ]
  },
  {
   "cell_type": "code",
   "execution_count": null,
   "metadata": {},
   "outputs": [],
   "source": [
    "iri = pd.read_csv(os.path.join(data_dir,'IRI.csv'))\n",
    "fs = iri['IRI_1'] + iri['IRI_4'] + iri['IRI_6'] + iri['IRI_11'] + iri['IRI_15'] + iri['IRI_22'] + iri['IRI_25']\n",
    "ec = iri['IRI_2'] + iri['IRI_8'] + iri['IRI_13'] + iri['IRI_17'] + iri['IRI_19'] + iri['IRI_21']\n",
    "pds = iri['IRI_5'] + iri['IRI_9'] + iri['IRI_12'] + iri['IRI_16'] + iri['IRI_18'] + iri['IRI_23'] + iri['IRI_26']\n",
    "pt = iri['IRI_3'] + iri['IRI_7'] + iri['IRI_10'] + iri['IRI_14'] + iri['IRI_20'] + iri['IRI_24'] + iri['IRI_27']\n",
    "iri['FS'] = fs\n",
    "iri['EC'] = ec\n",
    "iri['PD'] = pds\n",
    "iri['PT'] = pt\n",
    "iri.to_csv(os.path.join(data_dir, 'IRI.csv'))"
   ]
  },
  {
   "cell_type": "code",
   "execution_count": null,
   "metadata": {},
   "outputs": [],
   "source": [
    "for i in ('ag','ax', 'fe', 'hl','ha'):\n",
    "    iri = pd.read_csv(os.path.join(data_dir, i + '/' +i + '_IRI.csv'))\n",
    "    fs = iri['IRI_1'] + iri['IRI_4'] + iri['IRI_6'] + iri['IRI_11'] + iri['IRI_15'] + iri['IRI_22'] + iri['IRI_25']\n",
    "    ec = iri['IRI_2'] + iri['IRI_8'] + iri['IRI_13'] + iri['IRI_17'] + iri['IRI_19'] + iri['IRI_21']\n",
    "    pds = iri['IRI_5'] + iri['IRI_9'] + iri['IRI_12'] + iri['IRI_16'] + iri['IRI_18'] + iri['IRI_23'] + iri['IRI_26']\n",
    "    iri['FS'] = fs\n",
    "    iri['EC'] = ec\n",
    "    iri['PD'] = pds\n",
    "    iri.to_csv(os.path.join(data_dir, i + '/' +i + '_IRI.csv'))\n",
    "    del iri"
   ]
  },
  {
   "cell_type": "markdown",
   "metadata": {},
   "source": [
    "Summary score correlation"
   ]
  },
  {
   "cell_type": "code",
   "execution_count": null,
   "metadata": {},
   "outputs": [],
   "source": [
    "summary = pd.concat([imq['SO'], imq['SS'], imq['OS'], iri['EC'], iri['PD'], iri['FS'], iri['PT']], axis=1)"
   ]
  },
  {
   "cell_type": "code",
   "execution_count": null,
   "metadata": {},
   "outputs": [],
   "source": [
    "corr = summary.corr()"
   ]
  },
  {
   "cell_type": "code",
   "execution_count": null,
   "metadata": {},
   "outputs": [],
   "source": [
    "sns.heatmap(corr, square=True, cmap='Reds', linewidths=0.1, xticklabels=True, yticklabels=True, annot=True)"
   ]
  },
  {
   "cell_type": "code",
   "execution_count": null,
   "metadata": {},
   "outputs": [],
   "source": [
    "import plotly.express as px\n",
    "fig = px.scatter_3d(summary, x='SO', y='SS', z='EC')\n",
    "fig.show()"
   ]
  },
  {
   "cell_type": "markdown",
   "metadata": {},
   "source": [
    "### Secion 1: Angry (IMQ-SO/SS, IRI-EC/PD)"
   ]
  },
  {
   "cell_type": "markdown",
   "metadata": {},
   "source": [
    "* Angry IMQ-SO/SS"
   ]
  },
  {
   "cell_type": "code",
   "execution_count": null,
   "metadata": {},
   "outputs": [],
   "source": [
    "def imq_annak(n_subs, raw_data):\n",
    "    so,ss = raw_data['SO'], raw_data['SS']\n",
    "    so_rank, ss_rank = rankdata(so), rankdata(ss) # explicity convert the raw scores to ranks\n",
    "    simi_so, simi_ss = np.zeros((n_subs, n_subs)), np.zeros((n_subs, n_subs))\n",
    "    \n",
    "    for i in range(n_subs):\n",
    "        for j in range(n_subs):\n",
    "            if i < j:\n",
    "                sim_ij = np.mean([so_rank[i], so_rank[j]])/n_subs\n",
    "                simi_so[i,j] = sim_ij\n",
    "                simi_so[j,i] = sim_ij\n",
    "            elif i==j:\n",
    "                simi_so[i,j] = 1\n",
    "    for i in range(n_subs):\n",
    "        for j in range(n_subs):\n",
    "            if i < j:\n",
    "                sim_ij = np.mean([ss_rank[i], ss_rank[j]])/n_subs\n",
    "                simi_ss[i,j] = sim_ij\n",
    "                simi_ss[j,i] = sim_ij\n",
    "            elif i==j:\n",
    "                simi_ss[i,j] = 1\n",
    "    return simi_so, simi_ss\n",
    "\n",
    "def iri_annak(n_subs, raw_data):\n",
    "    ec,pd = raw_data['EC'], raw_data['PD']\n",
    "    ec_rank, pd_rank = rankdata(ec), rankdata(pd) # explicity convert the raw scores to ranks\n",
    "    simi_ec, simi_pd = np.zeros((n_subs, n_subs)), np.zeros((n_subs, n_subs))\n",
    "    \n",
    "    for i in range(n_subs):\n",
    "        for j in range(n_subs):\n",
    "            if i < j:\n",
    "                sim_ij = np.mean([ec_rank[i], ec_rank[j]])/n_subs\n",
    "                simi_ec[i,j] = sim_ij\n",
    "                simi_ec[j,i] = sim_ij\n",
    "            elif i==j:\n",
    "                simi_ec[i,j] = 1\n",
    "    for i in range(n_subs):\n",
    "        for j in range(n_subs):\n",
    "            if i < j:\n",
    "                sim_ij = np.mean([pd_rank[i], pd_rank[j]])/n_subs\n",
    "                simi_pd[i,j] = sim_ij\n",
    "                simi_pd[j,i] = sim_ij\n",
    "            elif i==j:\n",
    "                simi_pd[i,j] = 1\n",
    "    return simi_ec, simi_pd"
   ]
  },
  {
   "cell_type": "code",
   "execution_count": null,
   "metadata": {},
   "outputs": [],
   "source": [
    "#Set the paprameters and import data\n",
    "n_subs = 36\n",
    "imq_raw = pd.read_csv(os.path.join(data_dir, 'ag/ag_IMQ.csv'))\n",
    "so_simi, ss_simi = imq_annak(n_subs, imq_raw)\n",
    "\n",
    "# Plot the isc matrix\n",
    "mask =np.zeros_like(so_simi)\n",
    "mask[np.triu_indices_from(mask)] = True\n",
    "fig, (ax1, ax2) = plt.subplots(1,2, figsize=(25,12))\n",
    "sns.heatmap(so_simi, square=True, cmap='Reds', mask=mask, linewidths=0.1, ax=ax1, xticklabels=False, yticklabels=False, cbar_kws={'label': 'similarity', \"shrink\": 0.8})\n",
    "ax1.set_title(\"Angry IMQ-SO ISC\", fontsize=25, fontweight='bold')\n",
    "sns.heatmap(ss_simi, square=True, cmap='Reds', mask=mask, linewidths=0.1, ax=ax2, xticklabels=False, yticklabels=False, cbar_kws={'label': 'similarity', \"shrink\": 0.8})\n",
    "ax2.set_title(\"Angry IMQ-SS ISC\", fontsize=25, fontweight='bold')\n",
    "\n",
    "# Save the result\n",
    "ag_simi_so = get_tril_vec(so_simi)\n",
    "ag_simi_ss = get_tril_vec(ss_simi)"
   ]
  },
  {
   "cell_type": "markdown",
   "metadata": {},
   "source": [
    "* Angry IRI-EC/PD"
   ]
  },
  {
   "cell_type": "code",
   "execution_count": null,
   "metadata": {},
   "outputs": [],
   "source": [
    "# Set the paprameters and import data\n",
    "n_subs = 36\n",
    "iri_raw = pd.read_csv(os.path.join(data_dir, 'ag/ag_IRI.csv'))\n",
    "ec_simi, pd_simi = iri_annak(n_subs, iri_raw)\n",
    "\n",
    "# Plot the isc matrix\n",
    "mask =np.zeros_like(ec_simi)\n",
    "mask[np.triu_indices_from(mask)] = True\n",
    "fig, (ax1, ax2) = plt.subplots(1,2, figsize=(25,12))\n",
    "sns.heatmap(ec_simi, square=True, cmap='Reds', mask=mask, linewidths=0.1, ax=ax1, xticklabels=False, yticklabels=False, cbar_kws={'label': 'similarity', \"shrink\": 0.8})\n",
    "ax1.set_title(\"Angry IRI-EC ISC\", fontsize=25, fontweight='bold')\n",
    "sns.heatmap(pd_simi, square=True, cmap='Reds', mask=mask, linewidths=0.1, ax=ax2, xticklabels=False, yticklabels=False, cbar_kws={'label': 'similarity', \"shrink\": 0.8})\n",
    "ax2.set_title(\"Angry IRI-PD ISC\", fontsize=25, fontweight='bold')\n",
    "\n",
    "# Save the result\n",
    "ag_simi_ec = get_tril_vec(ec_simi)\n",
    "ag_simi_pd = get_tril_vec(pd_simi)"
   ]
  },
  {
   "cell_type": "markdown",
   "metadata": {},
   "source": [
    "### Section 2: Anxiety (IMQ-SO/SS, IRI-EC/PD)"
   ]
  },
  {
   "cell_type": "markdown",
   "metadata": {},
   "source": [
    "Anxiety IMQ-SO/SS"
   ]
  },
  {
   "cell_type": "code",
   "execution_count": null,
   "metadata": {},
   "outputs": [],
   "source": [
    "# Set the paprameters and import data\n",
    "n_subs = 38\n",
    "imq_raw = pd.read_csv(os.path.join(data_dir, 'ax/ax_IMQ.csv'))\n",
    "so_simi, ss_simi = imq_annak(n_subs, imq_raw)\n",
    "\n",
    "# Plot the isc matrix\n",
    "mask =np.zeros_like(so_simi)\n",
    "mask[np.triu_indices_from(mask)] = True\n",
    "fig, (ax1, ax2) = plt.subplots(1,2, figsize=(25,12))\n",
    "sns.heatmap(so_simi, square=True, cmap='Reds', mask=mask, linewidths=0.1, ax=ax1, xticklabels=False, yticklabels=False, cbar_kws={'label': 'similarity', \"shrink\": 0.8})\n",
    "ax1.set_title(\"Anxiety IMQ-SO ISC\", fontsize=25, fontweight='bold')\n",
    "sns.heatmap(ss_simi, square=True, cmap='Reds', mask=mask, linewidths=0.1, ax=ax2, xticklabels=False, yticklabels=False, cbar_kws={'label': 'similarity', \"shrink\": 0.8})\n",
    "ax2.set_title(\"Anxiety IMQ-SS ISC\", fontsize=25, fontweight='bold')\n",
    "\n",
    "# Save the result\n",
    "ax_simi_so = get_tril_vec(so_simi)\n",
    "ax_simi_ss = get_tril_vec(ss_simi)"
   ]
  },
  {
   "cell_type": "markdown",
   "metadata": {},
   "source": [
    "Anxiety IRI-EC/PD"
   ]
  },
  {
   "cell_type": "code",
   "execution_count": null,
   "metadata": {},
   "outputs": [],
   "source": [
    "# Set the paprameters and import data\n",
    "n_subs = 38\n",
    "iri_raw = pd.read_csv(os.path.join(data_dir, 'ax/ax_IRI.csv'))\n",
    "ec_simi, pd_simi = iri_annak(n_subs, iri_raw)\n",
    "\n",
    "# Plot the isc matrix\n",
    "mask =np.zeros_like(ec_simi)\n",
    "mask[np.triu_indices_from(mask)] = True\n",
    "fig, (ax1, ax2) = plt.subplots(1,2, figsize=(25,12))\n",
    "sns.heatmap(ec_simi, square=True, cmap='Reds', mask=mask, linewidths=0.1, ax=ax1, xticklabels=False, yticklabels=False, cbar_kws={'label': 'similarity', \"shrink\": 0.8})\n",
    "ax1.set_title(\"Anxiety IRI-EC ISC\", fontsize=25, fontweight='bold')\n",
    "sns.heatmap(pd_simi, square=True, cmap='Reds', mask=mask, linewidths=0.1, ax=ax2, xticklabels=False, yticklabels=False, cbar_kws={'label': 'similarity', \"shrink\": 0.8})\n",
    "ax2.set_title(\"Anxiety IRI-PD ISC\", fontsize=25, fontweight='bold')\n",
    "\n",
    "# Save the result\n",
    "ax_simi_ec = get_tril_vec(ec_simi)\n",
    "ax_simi_pd = get_tril_vec(pd_simi)"
   ]
  },
  {
   "cell_type": "markdown",
   "metadata": {},
   "source": [
    "### Section 3: Fear (IMQ-SS, IRI-FS/PD)"
   ]
  },
  {
   "cell_type": "markdown",
   "metadata": {},
   "source": [
    "Fear IMQ-SS/SO"
   ]
  },
  {
   "cell_type": "code",
   "execution_count": null,
   "metadata": {},
   "outputs": [],
   "source": [
    "# Set the paprameters and import data\n",
    "n_subs = 37\n",
    "imq_raw = pd.read_csv(os.path.join(data_dir, 'fe/fe_IMQ.csv'))\n",
    "so_simi, ss_simi = imq_annak(n_subs, imq_raw)\n",
    "\n",
    "# Plot the isc matrix\n",
    "mask =np.zeros_like(so_simi)\n",
    "mask[np.triu_indices_from(mask)] = True\n",
    "fig, (ax1, ax2) = plt.subplots(1,2, figsize=(25,12))\n",
    "sns.heatmap(so_simi, square=True, cmap='Reds', mask=mask, linewidths=0.1, ax=ax1, xticklabels=False, yticklabels=False, cbar_kws={'label': 'similarity', \"shrink\": 0.8})\n",
    "ax1.set_title(\"Fear IMQ-SO ISC\", fontsize=25, fontweight='bold')\n",
    "sns.heatmap(ss_simi, square=True, cmap='Reds', mask=mask, linewidths=0.1, ax=ax2, xticklabels=False, yticklabels=False, cbar_kws={'label': 'similarity', \"shrink\": 0.8})\n",
    "ax2.set_title(\"Fear IMQ-SS ISC\", fontsize=25, fontweight='bold')\n",
    "\n",
    "# Save the result\n",
    "fe_simi_ss = get_tril_vec(so_simi)\n",
    "fe_simi_so = get_tril_vec(ss_simi)"
   ]
  },
  {
   "cell_type": "markdown",
   "metadata": {},
   "source": [
    "Fear IMQ-FS/EC/PD"
   ]
  },
  {
   "cell_type": "code",
   "execution_count": null,
   "metadata": {},
   "outputs": [],
   "source": [
    "# Set the paprameters and import data\n",
    "n_subs = 37\n",
    "iri_raw = pd.read_csv(os.path.join(data_dir, 'fe/fe_IRI.csv'))\n",
    "ec_simi, pd_simi = iri_annak(n_subs, iri_raw)\n",
    "\n",
    "iri_fs = iri_raw['FS']\n",
    "iri_fs_rank= rankdata(iri_fs) # explicity convert the raw scores to ranks\n",
    "fs_simi= np.zeros((n_subs, n_subs))\n",
    "\n",
    "# Calculate the ann isc of fs\n",
    "for i in range(n_subs):\n",
    "    for j in range(n_subs):\n",
    "        if i < j:\n",
    "            sim_ij = np.mean([iri_fs_rank[i], iri_fs_rank[j]])/n_subs\n",
    "            fs_simi[i,j] = sim_ij\n",
    "            fs_simi[j,i] = sim_ij\n",
    "        elif i==j:\n",
    "            fs_simi[i,j] = 1\n",
    "\n",
    "# Plot the isc matrix\n",
    "mask =np.zeros_like(ec_simi)\n",
    "mask[np.triu_indices_from(mask)] = True\n",
    "fig, (ax1, ax2, ax3) = plt.subplots(ncols=3, figsize=(25,12))\n",
    "sns.heatmap(ec_simi, square=True, cmap='Reds', mask=mask, linewidths=0.1, ax=ax1, xticklabels=False, yticklabels=False, cbar_kws={'label': 'similarity', \"shrink\": 0.8})\n",
    "ax1.set_title(\"Helpless IRI-EC ISC\", fontsize=25, fontweight='bold')\n",
    "sns.heatmap(pd_simi, square=True, cmap='Reds', mask=mask, linewidths=0.1, ax=ax2, xticklabels=False, yticklabels=False, cbar_kws={'label': 'similarity', \"shrink\": 0.8})\n",
    "ax2.set_title(\"Helpless IRI-PD ISC\", fontsize=25, fontweight='bold')\n",
    "sns.heatmap(fs_simi, square=True, cmap='Reds', mask=mask, linewidths=0.1, ax=ax3, xticklabels=False, yticklabels=False, cbar_kws={'label': 'similarity', \"shrink\": 0.8})\n",
    "ax3.set_title(\"Helpless IRI-FS ISC\", fontsize=25, fontweight='bold')\n",
    "\n",
    "# Save the result\n",
    "fe_simi_ec = get_tril_vec(ec_simi)\n",
    "fe_simi_pd = get_tril_vec(pd_simi)\n",
    "fe_simi_fs = get_tril_vec(fs_simi)"
   ]
  },
  {
   "cell_type": "markdown",
   "metadata": {},
   "source": [
    "### Section 4: Helpless (IMQ-SO, IRI-EC/PD)"
   ]
  },
  {
   "cell_type": "markdown",
   "metadata": {},
   "source": [
    "Helpless IMQ-SO"
   ]
  },
  {
   "cell_type": "code",
   "execution_count": null,
   "metadata": {},
   "outputs": [],
   "source": [
    "# Set the paprameters and import data\n",
    "n_subs = 39\n",
    "imq_raw = pd.read_csv(os.path.join(data_dir, 'hl/hl_IMQ.csv'))\n",
    "so_simi, ss_simi = imq_annak(n_subs, imq_raw)\n",
    "# Plot the isc matrix\n",
    "mask =np.zeros_like(so_simi)\n",
    "mask[np.triu_indices_from(mask)] = True\n",
    "fig, (ax1, ax2) = plt.subplots(1,2, figsize=(25,12))\n",
    "sns.heatmap(so_simi, square=True, cmap='Reds', mask=mask, linewidths=0.1, ax=ax1, xticklabels=False, yticklabels=False, cbar_kws={'label': 'similarity', \"shrink\": 0.8})\n",
    "ax1.set_title(\"Helpless IMQ-SO ISC\", fontsize=25, fontweight='bold')\n",
    "sns.heatmap(ss_simi, square=True, cmap='Reds', mask=mask, linewidths=0.1, ax=ax2, xticklabels=False, yticklabels=False, cbar_kws={'label': 'similarity', \"shrink\": 0.8})\n",
    "ax2.set_title(\"Helpless IMQ-SS ISC\", fontsize=25, fontweight='bold')\n",
    "\n",
    "# Save the result\n",
    "hl_simi_ss = get_tril_vec(so_simi)\n",
    "hl_simi_so = get_tril_vec(ss_simi)"
   ]
  },
  {
   "cell_type": "markdown",
   "metadata": {},
   "source": [
    "Helpless IRI-EC/PD"
   ]
  },
  {
   "cell_type": "code",
   "execution_count": null,
   "metadata": {},
   "outputs": [],
   "source": [
    "# Set the paprameters and import data\n",
    "n_subs = 39\n",
    "iri_raw = pd.read_csv(os.path.join(data_dir, 'hl/hl_IRI.csv'))\n",
    "ec_simi, pd_simi = iri_annak(n_subs, iri_raw)\n",
    "\n",
    "# Plot the isc matrix\n",
    "mask =np.zeros_like(ec_simi)\n",
    "mask[np.triu_indices_from(mask)] = True\n",
    "fig, (ax1, ax2) = plt.subplots(1,2, figsize=(25,12))\n",
    "sns.heatmap(ec_simi, square=True, cmap='Reds', mask=mask, linewidths=0.1, ax=ax1, xticklabels=False, yticklabels=False, cbar_kws={'label': 'similarity', \"shrink\": 0.8})\n",
    "ax1.set_title(\"Helpless IRI-EC ISC\", fontsize=25, fontweight='bold')\n",
    "sns.heatmap(pd_simi, square=True, cmap='Reds', mask=mask, linewidths=0.1, ax=ax2, xticklabels=False, yticklabels=False, cbar_kws={'label': 'similarity', \"shrink\": 0.8})\n",
    "ax2.set_title(\"Helpless IRI-PD ISC\", fontsize=25, fontweight='bold')\n",
    "\n",
    "# Save the result\n",
    "hl_simi_ec = get_tril_vec(ec_simi)\n",
    "hl_simi_pd = get_tril_vec(pd_simi)"
   ]
  },
  {
   "cell_type": "markdown",
   "metadata": {},
   "source": [
    "### Section 5: Happy (IMQ-SS/SO, IRI-FS)"
   ]
  },
  {
   "cell_type": "markdown",
   "metadata": {},
   "source": [
    "Happy IMQ-SS/SO"
   ]
  },
  {
   "cell_type": "code",
   "execution_count": null,
   "metadata": {},
   "outputs": [],
   "source": [
    "# Set the paprameters and import data\n",
    "n_subs = 41\n",
    "imq_raw = pd.read_csv(os.path.join(data_dir, 'ha/ha_IMQ.csv'))\n",
    "so_simi, ss_simi = imq_annak(n_subs, imq_raw)\n",
    "# Plot the isc matrix\n",
    "mask =np.zeros_like(so_simi)\n",
    "mask[np.triu_indices_from(mask)] = True\n",
    "fig, (ax1, ax2) = plt.subplots(1,2, figsize=(25,12))\n",
    "sns.heatmap(so_simi, square=True, cmap='Reds', mask=mask, linewidths=0.1, ax=ax1, xticklabels=False, yticklabels=False, cbar_kws={'label': 'similarity', \"shrink\": 0.8})\n",
    "ax1.set_title(\"Happy IMQ-SO ISC\", fontsize=25, fontweight='bold')\n",
    "sns.heatmap(ss_simi, square=True, cmap='Reds', mask=mask, linewidths=0.1, ax=ax2, xticklabels=False, yticklabels=False, cbar_kws={'label': 'similarity', \"shrink\": 0.8})\n",
    "ax2.set_title(\"Happy IMQ-SS ISC\", fontsize=25, fontweight='bold')\n",
    "\n",
    "# Save the result\n",
    "ha_simi_ss = get_tril_vec(so_simi)\n",
    "ha_simi_so = get_tril_vec(ss_simi)"
   ]
  },
  {
   "cell_type": "markdown",
   "metadata": {},
   "source": [
    "* Happy IRI-FS"
   ]
  },
  {
   "cell_type": "code",
   "execution_count": null,
   "metadata": {},
   "outputs": [],
   "source": [
    "# Set the paprameters and import data\n",
    "n_subs = 41\n",
    "iri_raw = pd.read_csv(os.path.join(data_dir, 'ha/ha_IRI.csv'))\n",
    "iri_fs = iri_raw['FS']\n",
    "iri_fs_rank= rankdata(iri_fs) # explicity convert the raw scores to ranks\n",
    "fs_simi= np.zeros((n_subs, n_subs))\n",
    "\n",
    "# Calculate the ann isc\n",
    "for i in range(n_subs):\n",
    "    for j in range(n_subs):\n",
    "        if i < j:\n",
    "            sim_ij = np.mean([iri_fs_rank[i], iri_fs_rank[j]])/n_subs\n",
    "            fs_simi[i,j] = sim_ij\n",
    "            fs_simi[j,i] = sim_ij\n",
    "        elif i==j:\n",
    "            fs_simi[i,j] = 1\n",
    "\n",
    "# Plot the isc matrix\n",
    "mask =np.zeros_like(fs_simi)\n",
    "mask[np.triu_indices_from(mask)] = True\n",
    "plt.figure(figsize=(25, 12))\n",
    "sns.heatmap(fs_simi, square=True, cmap='RdBu_r', linewidths=0.1, xticklabels=False, yticklabels=False, cbar_kws={'label': 'similarity', \"shrink\": 0.8})\n",
    "\n",
    "# Save the result\n",
    "#ha_simi_fs = get_tril_vec(fs_simi)"
   ]
  },
  {
   "cell_type": "code",
   "execution_count": null,
   "metadata": {},
   "outputs": [],
   "source": [
    "behavisc= {'ag_so':ag_simi_so, 'ag_ss':ag_simi_ss, 'ag_ec':ag_simi_ec, 'ag_pd':ag_simi_pd, 'ax_so':ax_simi_so, 'ax_ss':ax_simi_ss, 'ax_ec':ax_simi_ec, 'ax_pd':ax_simi_pd,\\\n",
    "    'fe_so':fe_simi_so, 'fe_ss':fe_simi_ss, 'fe_ec':fe_simi_ec, 'fe_pd':fe_simi_pd, 'fe_fs':fe_simi_fs, 'hl_so':hl_simi_so, 'hl_ss':hl_simi_ss, 'hl_ec':hl_simi_ec, 'hl_pd':hl_simi_pd,\\\n",
    "     'ha_so':ha_simi_so, 'ha_ss':ha_simi_ss, 'ha_fs':ha_simi_fs}\n",
    "np.save(os.path.join(results_dir, 'behavisc_annak.npy'), behavisc) "
   ]
  }
 ],
 "metadata": {
  "interpreter": {
   "hash": "0637cefd005ce32f53abe336a7c6e0206dbf0dc1ed7f0aa326c4767b89ff415c"
  },
  "kernelspec": {
   "display_name": "Python 3.8.11 64-bit ('EEG': conda)",
   "language": "python",
   "name": "python3"
  },
  "language_info": {
   "codemirror_mode": {
    "name": "ipython",
    "version": 3
   },
   "file_extension": ".py",
   "mimetype": "text/x-python",
   "name": "python",
   "nbconvert_exporter": "python",
   "pygments_lexer": "ipython3",
   "version": "3.8.11"
  },
  "orig_nbformat": 4
 },
 "nbformat": 4,
 "nbformat_minor": 2
}
