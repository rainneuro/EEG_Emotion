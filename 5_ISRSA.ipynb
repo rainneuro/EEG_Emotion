{
 "cells": [
  {
   "cell_type": "markdown",
   "metadata": {},
   "source": [
    "## Script for conducting IS-RSA analysis on emotion data"
   ]
  },
  {
   "cell_type": "markdown",
   "metadata": {},
   "source": [
    "### Basic settings"
   ]
  },
  {
   "cell_type": "code",
   "execution_count": null,
   "metadata": {},
   "outputs": [],
   "source": [
    "%matplotlib inline\n",
    "import os\n",
    "import mne\n",
    "import pandas as pd\n",
    "import numpy as np\n",
    "from neurora.stuff import permutation_corr\n",
    "from mne.viz import plot_topomap\n",
    "from mne.stats import fdr_correction\n",
    "import matplotlib.pyplot as plt\n",
    "import seaborn as sns\n",
    "from jupyterthemes import jtplot\n",
    "jtplot.style(theme='grade3') \n",
    "from Function import spearmanr, permutation_cor\n",
    "\n",
    "# Define the path\n",
    "eeg_path = 'F:/1_Emotion_Data/Results/0_ISC/EEG/'\n",
    "data_path = 'F:/1_Emotion_Data/Results/0_ISC/ISC_CSV/'\n",
    "behav_path = 'F:/1_Emotion_Data/Results/0_ISC/Behav/'\n",
    "results_path = 'F:/1_Emotion_Data/Results/1_IS_RSA/'\n",
    "figure_path = 'F:/1_Emotion_Data/Results/2_Plots/ISRSA/4_edition/'"
   ]
  },
  {
   "cell_type": "code",
   "execution_count": null,
   "metadata": {},
   "outputs": [],
   "source": [
    "# Use the mne.read_epochs_eeglab() to read the preprocessed data\n",
    "demo = mne.read_epochs_eeglab('F:/1_Emotion_Data/Data/EEG/Angry/ag1/sub_001_ag1.set')\n",
    "montage = mne.channels.read_custom_montage('F:/1_Emotion_Data/Data/EEG/Emotion.loc')\n",
    "demo.set_montage(montage)\n",
    "\n",
    "# Obtain channel & montage information for topo-plot\n",
    "topo_info = demo.info\n",
    "# Obtain the channel names as a list\n",
    "ch_names = demo.ch_names\n",
    "# Crate a index list for channels\n",
    "ch_idx = list(range(63))\n",
    "# Combine the channels and index and convert to a dict\n",
    "ch = dict(zip(ch_names, ch_idx))\n",
    "print(ch['TP8'])"
   ]
  },
  {
   "cell_type": "markdown",
   "metadata": {},
   "source": [
    "### Import all ISC upper traingle matrics"
   ]
  },
  {
   "cell_type": "code",
   "execution_count": null,
   "metadata": {},
   "outputs": [],
   "source": [
    "behav_simi = np.load(os.path.join(behav_path, 'behavisc_annak.npy'), allow_pickle=True).item()\n",
    "\n",
    "ag_psd = np.load(os.path.join(eeg_path, 'ag_isc_matrix.npy'), allow_pickle=True).item()['matrix']\n",
    "ag_physio = pd.read_csv(os.path.join(data_path, 'Physiology/ag_physio_isc.csv'))\n",
    "\n",
    "ax_psd = np.load(os.path.join(eeg_path, 'ax_isc_matrix.npy'), allow_pickle=True).item()['matrix']\n",
    "ax_physio = pd.read_csv(os.path.join(data_path, 'Physiology/ax_physio_isc.csv'))\n",
    "\n",
    "fe_psd = np.load(os.path.join(eeg_path, 'fe_isc_matrix.npy'), allow_pickle=True).item()['matrix']\n",
    "fe_physio = pd.read_csv(os.path.join(data_path, 'Physiology/fe_physio_isc.csv'))\n",
    "\n",
    "hl_psd = np.load(os.path.join(eeg_path, 'hl_isc_matrix.npy'), allow_pickle=True).item()['matrix']\n",
    "hl_physio = pd.read_csv(os.path.join(data_path, 'Physiology/hl_physio_isc.csv'))\n",
    "\n",
    "ha_psd = np.load(os.path.join(eeg_path, 'ha_isc_matrix.npy'), allow_pickle=True).item()['matrix']\n",
    "ha_physio = pd.read_csv(os.path.join(data_path, 'Physiology/ha_physio_isc.csv'))"
   ]
  },
  {
   "cell_type": "code",
   "execution_count": null,
   "metadata": {},
   "outputs": [],
   "source": [
    "def get_fdr(isrsa_matrix):  \n",
    "    _,delta_cor = fdr_correction(isrsa_matrix['delta_p'], alpha=0.05, method='indep')\n",
    "    _,theta_cor = fdr_correction(isrsa_matrix['theta_p'], alpha=0.05, method='indep')\n",
    "    _,alpha_cor = fdr_correction(isrsa_matrix['alpha_p'], alpha=0.05, method='indep')\n",
    "    _,beta_cor = fdr_correction(isrsa_matrix['beta_p'], alpha=0.05, method='indep')\n",
    "    _,gamma_cor = fdr_correction(isrsa_matrix['gamma_p'], alpha=0.05, method='indep')\n",
    "    isrsa_matrix.insert(4, 'delta_p_cor', delta_cor)\n",
    "    isrsa_matrix.insert(7, 'theta_p_cor', theta_cor)\n",
    "    isrsa_matrix.insert(10, 'alpha_p_cor', alpha_cor)\n",
    "    isrsa_matrix.insert(13, 'beta_p_cor', beta_cor)\n",
    "    isrsa_matrix.insert(16, 'gamma_p_cor', gamma_cor)\n",
    "    return isrsa_matrix"
   ]
  },
  {
   "cell_type": "code",
   "execution_count": null,
   "metadata": {},
   "outputs": [],
   "source": [
    "def isrsa(psd_simi, behav_simi,ch_names):\n",
    "    delta_r,delta_p, theta_r, theta_p, alpha_r, alpha_p, beta_r, beta_p, gamma_r, gamma_p  = [], [], [], [], [], [], [], [], [], []\n",
    "\n",
    "    for ch in ch_idx:\n",
    "        r = spearmanr(psd_simi[:,ch,0], behav_simi)\n",
    "        p = permutation_corr(psd_simi[:,ch,0], behav_simi, method='spearman', iter=10000)\n",
    "        delta_r.append(r)\n",
    "        delta_p.append(p)\n",
    "        \n",
    "        r = spearmanr(psd_simi[:,ch,1], behav_simi)\n",
    "        p = permutation_corr(psd_simi[:,ch,1], behav_simi, method='spearman', iter=10000)\n",
    "        theta_r.append(r)\n",
    "        theta_p.append(p)\n",
    "        \n",
    "        r = spearmanr(psd_simi[:,ch,2], behav_simi)\n",
    "        p = permutation_corr(psd_simi[:,ch,2], behav_simi, method='spearman', iter=10000)\n",
    "        alpha_r.append(r)\n",
    "        alpha_p.append(p)\n",
    "        \n",
    "        r = spearmanr(psd_simi[:,ch,3], behav_simi)\n",
    "        p = permutation_corr(psd_simi[:,ch,3], behav_simi, method='spearman', iter=10000)\n",
    "        beta_r.append(r)\n",
    "        beta_p.append(p)\n",
    "        \n",
    "        r = spearmanr(psd_simi[:,ch,4], behav_simi)\n",
    "        p = permutation_corr(psd_simi[:,ch,4], behav_simi, method='spearman', iter=10000)\n",
    "        gamma_r.append(r)\n",
    "        gamma_p.append(p)\n",
    "\n",
    "    isrsa_df = {'channel_name': ch_names, 'delta_r':delta_r, 'delta_p':delta_p, 'theta_r':theta_r, 'theta_p':theta_p, 'alpha_r':alpha_r, \\\n",
    "        'alpha_p':alpha_p, 'beta_r': beta_r, 'beta_p': beta_p, 'gamma_r': gamma_r, 'gamma_p': gamma_p}\n",
    "    isrsa_df = pd.DataFrame(isrsa_df, dtype='float64')\n",
    "\n",
    "    return isrsa_df\n"
   ]
  },
  {
   "cell_type": "code",
   "execution_count": null,
   "metadata": {},
   "outputs": [],
   "source": [
    "def isrsa_topo(isrsa_matrix,topo_info,vmin,vmax,title):\n",
    "    fig,(ax1, ax2, ax3, ax4, ax5) = plt.subplots(ncols=5, figsize=(25,15))\n",
    "\n",
    "    mask = obtain_mask(isrsa_matrix['delta_p'], ch_idx)\n",
    "    im,_ = plot_topomap(isrsa_matrix['delta_r'], topo_info, axes=ax1, show=False, mask=mask, mask_params=dict(marker='o',markersize=6, markerfacecolor='w'), vmin=vmin, vmax=vmax,cmap='RdBu_r',sphere=0.13)\n",
    "    mask = obtain_mask(isrsa_matrix['theta_p'], ch_idx)\n",
    "    im,_ = plot_topomap(isrsa_matrix['theta_r'], topo_info, axes=ax2, show=False, mask=mask, mask_params=dict(marker='o',markersize=6, markerfacecolor='w'), vmin=vmin, vmax=vmax,  cmap='RdBu_r',sphere=0.13)\n",
    "    mask = obtain_mask(isrsa_matrix['alpha_p'], ch_idx)    \n",
    "    im,_ = plot_topomap(isrsa_matrix['alpha_r'], topo_info, axes=ax3, show=False, mask=mask, mask_params=dict(marker='o',markersize=6, markerfacecolor='w'), vmin=vmin, vmax=vmax,  cmap='RdBu_r',sphere=0.13)\n",
    "    mask = obtain_mask(isrsa_matrix['beta_p'], ch_idx)    \n",
    "    im,_ = plot_topomap(isrsa_matrix['beta_r'], topo_info, axes=ax4, show=False, mask=mask, mask_params=dict(marker='o',markersize=6, markerfacecolor='w'), vmin=vmin, vmax=vmax, cmap='RdBu_r',sphere=0.13)\n",
    "    mask = obtain_mask(isrsa_matrix['gamma_p'], ch_idx)    \n",
    "    im,_ = plot_topomap(isrsa_matrix['gamma_r'], topo_info, axes=ax5, show=False, mask=mask, mask_params=dict(marker='o',markersize=6, markerfacecolor='w'), vmin=vmin, vmax=vmax, cmap='RdBu_r',sphere=0.13)\n",
    "\n",
    "    ax1.set_title('Delta',fontsize=20) \n",
    "    ax2.set_title('Theta',fontsize=20) \n",
    "    ax3.set_title('Alpha',fontsize=20) \n",
    "    ax4.set_title('Beta',fontsize=20) \n",
    "    ax5.set_title('Gamma',fontsize=20) \n",
    "    ax_x_start, ax_x_width, ax_y_start, ax_y_height  = 0.95, 0.02, 0.4, 0.3\n",
    "    cbar_ax = fig.add_axes([ax_x_start, ax_y_start, ax_x_width, ax_y_height])\n",
    "    clb = fig.colorbar(im, cax=cbar_ax)\n",
    "    fig.suptitle(title, x=0.5, y=0.75, fontsize=25, fontweight='bold')\n",
    "    plt.show()\n",
    "    # plt.savefig('F:/1_Emotion_Data/Results/2_Plots/ISRSA/ag_so.png',bbox_inches='tight',dpi=600,pad_inches=0.1)\n",
    "    # plt.close()\n",
    "    return fig\n",
    "        "
   ]
  },
  {
   "cell_type": "code",
   "execution_count": null,
   "metadata": {},
   "outputs": [],
   "source": [
    "# Obtain mask\n",
    "def obtain_mask(p_vector, ch_idx):  \n",
    "    tp = np.array(p_vector)\n",
    "    for i in ch_idx: \n",
    "        p = tp[i]\n",
    "        if p <= 0.05:\n",
    "            tp[i] = True\n",
    "        else:\n",
    "            tp[i] = False\n",
    "    return tp"
   ]
  },
  {
   "cell_type": "markdown",
   "metadata": {},
   "source": [
    "### Section 1: IS-RSA of EEG PSD & Scales"
   ]
  },
  {
   "cell_type": "markdown",
   "metadata": {},
   "source": [
    "### 1. Angry"
   ]
  },
  {
   "cell_type": "markdown",
   "metadata": {},
   "source": [
    "#### Angey PSD & IMQ-SS"
   ]
  },
  {
   "cell_type": "code",
   "execution_count": null,
   "metadata": {},
   "outputs": [],
   "source": [
    "ag_ss = isrsa(ag_psd, behav_simi['ag_ss'], ch_names)\n",
    "ag_ss.to_csv(os.path.join(results_path, '1_side/ag_ss_isrsa.csv'))\n",
    "isrsa_topo(ag_ss,topo_info,vmin=-0.15,vmax=0.15,title='Angry & IMQ-SS')"
   ]
  },
  {
   "cell_type": "code",
   "execution_count": null,
   "metadata": {},
   "outputs": [],
   "source": [
    "ag_ss_cor = get_fdr(ag_ss)\n",
    "ag_ss_cor.to_csv(os.path.join(results_path, '1_side/ag_ss_isrsa_cor.csv'))"
   ]
  },
  {
   "cell_type": "markdown",
   "metadata": {},
   "source": [
    "#### Angry PSD & IMQ-SO"
   ]
  },
  {
   "cell_type": "code",
   "execution_count": null,
   "metadata": {},
   "outputs": [],
   "source": [
    "ag_so = isrsa(ag_psd, behav_simi['ag_so'], ch_names)\n",
    "ag_so.to_csv(os.path.join(results_path, '1_side/ag_so_isrsa.csv'))"
   ]
  },
  {
   "cell_type": "code",
   "execution_count": null,
   "metadata": {},
   "outputs": [],
   "source": [
    "ag_so_cor = get_fdr(ag_so)\n",
    "ag_so_cor.to_csv(os.path.join(results_path, '1_side/ag_so_isrsa_cor.csv'))"
   ]
  },
  {
   "cell_type": "markdown",
   "metadata": {},
   "source": [
    "#### Angry PSD & IRI-EC"
   ]
  },
  {
   "cell_type": "code",
   "execution_count": null,
   "metadata": {},
   "outputs": [],
   "source": [
    "ag_ec = isrsa(ag_psd, behav_simi['ag_ec'], ch_names)\n",
    "ag_ec.to_csv(os.path.join(results_path, '1_side/ag_ec_isrsa.csv'))"
   ]
  },
  {
   "cell_type": "code",
   "execution_count": null,
   "metadata": {},
   "outputs": [],
   "source": [
    "ag_ec_cor = get_fdr(ag_ec)\n",
    "ag_ec_cor.to_csv(os.path.join(results_path, '1_side/ag_ec_isrsa_cor.csv'))"
   ]
  },
  {
   "cell_type": "markdown",
   "metadata": {},
   "source": [
    "#### Angry PSD & IRI-PD"
   ]
  },
  {
   "cell_type": "code",
   "execution_count": null,
   "metadata": {},
   "outputs": [],
   "source": [
    "ag_pd = isrsa(ag_psd, behav_simi['ag_pd'], ch_names)\n",
    "ag_pd.to_csv(os.path.join(results_path, '1_side/ag_pd_isrsa.csv'))\n",
    "isrsa_topo(ag_pd,topo_info,vmin=-0.15, vmax=0.15, title='Angry & IRI-PD')"
   ]
  },
  {
   "cell_type": "code",
   "execution_count": null,
   "metadata": {},
   "outputs": [],
   "source": [
    "ag_pd_cor = get_fdr(ag_pd)\n",
    "ag_pd_cor.to_csv(os.path.join(results_path, '1_side/ag_pd_isrsa_cor.csv'))"
   ]
  },
  {
   "cell_type": "markdown",
   "metadata": {},
   "source": [
    "### 2. Anxiety"
   ]
  },
  {
   "cell_type": "markdown",
   "metadata": {},
   "source": [
    "#### Anxiety PSD & IMQ-SS"
   ]
  },
  {
   "cell_type": "code",
   "execution_count": null,
   "metadata": {},
   "outputs": [],
   "source": [
    "ax_ss = isrsa(ax_psd, behav_simi['ax_ss'], ch_names)\n",
    "ax_ss.to_csv(os.path.join(results_path, '1_side/ax_ss_isrsa.csv'))\n",
    "isrsa_topo(ax_ss,topo_info,vmin=-0.15,vmax=0.15, title='Anxiety & IMQ-SS')"
   ]
  },
  {
   "cell_type": "code",
   "execution_count": null,
   "metadata": {},
   "outputs": [],
   "source": [
    "ax_ss_cor = get_fdr(ax_ss)\n",
    "ax_ss_cor.to_csv(os.path.join(results_path, '1_side/ax_ss_isrsa_cor.csv'))"
   ]
  },
  {
   "cell_type": "markdown",
   "metadata": {},
   "source": [
    "#### Anxiety PSD & IMQ-SO"
   ]
  },
  {
   "cell_type": "code",
   "execution_count": null,
   "metadata": {},
   "outputs": [],
   "source": [
    "ax_so = isrsa(ax_psd, behav_simi['ax_so'], ch_names)\n",
    "ax_so.to_csv(os.path.join(results_path, '1_side/ax_so_isrsa.csv'))"
   ]
  },
  {
   "cell_type": "code",
   "execution_count": null,
   "metadata": {},
   "outputs": [],
   "source": [
    "ax_so_cor = get_fdr(ax_so)\n",
    "ax_so_cor.to_csv(os.path.join(results_path, '1_side/ax_so_isrsa_cor.csv'))"
   ]
  },
  {
   "cell_type": "markdown",
   "metadata": {},
   "source": [
    "#### Anxiety PSD & IRI-EC"
   ]
  },
  {
   "cell_type": "code",
   "execution_count": null,
   "metadata": {},
   "outputs": [],
   "source": [
    "ax_ec = isrsa(ax_psd, behav_simi['ax_ec'], ch_names)\n",
    "ax_ec.to_csv(os.path.join(results_path, '1_side/ax_ec_isrsa.csv'))\n",
    "isrsa_topo(ax_ec,topo_info,vmin=-0.15,vmax=0.15, title='Anxiety & IRI-EC')"
   ]
  },
  {
   "cell_type": "code",
   "execution_count": null,
   "metadata": {},
   "outputs": [],
   "source": [
    "ax_ec_cor = get_fdr(ax_ec)\n",
    "ax_ec_cor.to_csv(os.path.join(results_path, '1_side/ax_ec_isrsa_cor.csv'))"
   ]
  },
  {
   "cell_type": "markdown",
   "metadata": {},
   "source": [
    "#### Anxiety PSD & IRI-PD"
   ]
  },
  {
   "cell_type": "code",
   "execution_count": null,
   "metadata": {},
   "outputs": [],
   "source": [
    "ax_pd = isrsa(ax_psd, behav_simi['ax_pd'], ch_names)\n",
    "ax_pd.to_csv(os.path.join(results_path, '1_side/ax_pd_isrsa.csv'))\n",
    "isrsa_topo(ax_pd,topo_info,vmin=-0.15,vmax=0.15, title='Anxiety & IRI-PD')"
   ]
  },
  {
   "cell_type": "code",
   "execution_count": null,
   "metadata": {},
   "outputs": [],
   "source": [
    "ax_pd_cor = get_fdr(ax_pd)\n",
    "ax_pd_cor.to_csv(os.path.join(results_path, '1_side/ax_pd_isrsa_cor.csv'))"
   ]
  },
  {
   "cell_type": "markdown",
   "metadata": {},
   "source": [
    "### 3. Fear"
   ]
  },
  {
   "cell_type": "markdown",
   "metadata": {},
   "source": [
    "#### Fear PSD & IMQ-SS"
   ]
  },
  {
   "cell_type": "code",
   "execution_count": null,
   "metadata": {},
   "outputs": [],
   "source": [
    "fe_ss = isrsa(fe_psd, behav_simi['fe_ss'], ch_names)\n",
    "fe_ss.to_csv(os.path.join(results_path, '1_side/fe_ss_isrsa.csv'))\n",
    "isrsa_topo(fe_ss,topo_info,vmin=-0.15,vmax=0.15,title='Fear & IMQ-SS')"
   ]
  },
  {
   "cell_type": "code",
   "execution_count": null,
   "metadata": {},
   "outputs": [],
   "source": [
    "fe_ss_cor = get_fdr(fe_ss)\n",
    "fe_ss_cor.to_csv(os.path.join(results_path, '1_side/fe_ss_isrsa_cor.csv'))"
   ]
  },
  {
   "cell_type": "markdown",
   "metadata": {},
   "source": [
    "#### Fear PSD & IMQ-SO"
   ]
  },
  {
   "cell_type": "code",
   "execution_count": null,
   "metadata": {},
   "outputs": [],
   "source": [
    "fe_so = isrsa(fe_psd, behav_simi['fe_so'], ch_names)\n",
    "fe_so.to_csv(os.path.join(results_path, '1_side/fe_so_isrsa.csv'))"
   ]
  },
  {
   "cell_type": "code",
   "execution_count": null,
   "metadata": {},
   "outputs": [],
   "source": [
    "fe_so_cor = get_fdr(fe_so)\n",
    "fe_so_cor.to_csv(os.path.join(results_path, '1_side/fe_so_isrsa_cor.csv'))"
   ]
  },
  {
   "cell_type": "markdown",
   "metadata": {},
   "source": [
    "#### Fear PSD & IRI-EC"
   ]
  },
  {
   "cell_type": "code",
   "execution_count": null,
   "metadata": {},
   "outputs": [],
   "source": [
    "fe_ec = isrsa(fe_psd, behav_simi['fe_ec'], ch_names)\n",
    "fe_ec.to_csv(os.path.join(results_path, '1_side/fe_ec_isrsa.csv'))"
   ]
  },
  {
   "cell_type": "code",
   "execution_count": null,
   "metadata": {},
   "outputs": [],
   "source": [
    "fe_ec_cor = get_fdr(fe_ec)\n",
    "fe_ec_cor.to_csv(os.path.join(results_path, '1_side/fe_ec_isrsa_cor.csv'))"
   ]
  },
  {
   "cell_type": "markdown",
   "metadata": {},
   "source": [
    "#### Fear PSD & IRI-PD"
   ]
  },
  {
   "cell_type": "code",
   "execution_count": null,
   "metadata": {},
   "outputs": [],
   "source": [
    "fe_pd = isrsa(fe_psd, behav_simi['fe_pd'], ch_names)\n",
    "fe_pd.to_csv(os.path.join(results_path, '1_side/fe_pd_isrsa.csv'))\n",
    "isrsa_topo(fe_pd,topo_info,vmin=-0.15,vmax=0.15, title='Fear & IRI-PD')"
   ]
  },
  {
   "cell_type": "code",
   "execution_count": null,
   "metadata": {},
   "outputs": [],
   "source": [
    "fe_pd_cor = get_fdr(fe_pd)\n",
    "fe_pd_cor.to_csv(os.path.join(results_path, '1_side/fe_pd_isrsa_cor.csv'))"
   ]
  },
  {
   "cell_type": "markdown",
   "metadata": {},
   "source": [
    "### 4. Helpless"
   ]
  },
  {
   "cell_type": "markdown",
   "metadata": {},
   "source": [
    "#### Helpless PSD & IMQ-SS"
   ]
  },
  {
   "cell_type": "code",
   "execution_count": null,
   "metadata": {},
   "outputs": [],
   "source": [
    "hl_ss = isrsa(hl_psd, behav_simi['hl_ss'], ch_names)\n",
    "hl_ss.to_csv(os.path.join(results_path, '1_side/hl_ss_isrsa.csv'))\n",
    "isrsa_topo(hl_ss,topo_info,vmin=-0.15, vmax=0.15, title='Helpless & IMQ-SS')"
   ]
  },
  {
   "cell_type": "code",
   "execution_count": null,
   "metadata": {},
   "outputs": [],
   "source": [
    "hl_ss_cor = get_fdr(hl_ss)\n",
    "hl_ss_cor.to_csv(os.path.join(results_path, '1_side/hl_ss_isrsa_cor.csv'))"
   ]
  },
  {
   "cell_type": "markdown",
   "metadata": {},
   "source": [
    "#### Helpless PSD & IMQ-SO"
   ]
  },
  {
   "cell_type": "code",
   "execution_count": null,
   "metadata": {},
   "outputs": [],
   "source": [
    "hl_so = isrsa(hl_psd, behav_simi['hl_so'], ch_names)\n",
    "hl_so.to_csv(os.path.join(results_path, '1_side/hl_so_isrsa.csv'))"
   ]
  },
  {
   "cell_type": "code",
   "execution_count": null,
   "metadata": {},
   "outputs": [],
   "source": [
    "hl_so_cor = get_fdr(hl_so)\n",
    "hl_so_cor.to_csv(os.path.join(results_path, '1_side/hl_so_isrsa_cor.csv'))"
   ]
  },
  {
   "cell_type": "markdown",
   "metadata": {},
   "source": [
    "#### Helpless PSD & IRI-EC"
   ]
  },
  {
   "cell_type": "code",
   "execution_count": null,
   "metadata": {},
   "outputs": [],
   "source": [
    "hl_ec = isrsa(hl_psd, behav_simi['hl_ec'], ch_names)\n",
    "hl_ec.to_csv(os.path.join(results_path, '1_side/hl_ec_isrsa.csv'))"
   ]
  },
  {
   "cell_type": "code",
   "execution_count": null,
   "metadata": {},
   "outputs": [],
   "source": [
    "hl_ec_cor = get_fdr(hl_ec)\n",
    "hl_ec_cor.to_csv(os.path.join(results_path, '1_side/hl_ec_isrsa_cor.csv'))"
   ]
  },
  {
   "cell_type": "markdown",
   "metadata": {},
   "source": [
    "#### Helpless PSD & IRI-PD"
   ]
  },
  {
   "cell_type": "code",
   "execution_count": null,
   "metadata": {},
   "outputs": [],
   "source": [
    "hl_pd = isrsa(hl_psd, behav_simi['hl_pd'], ch_names)\n",
    "hl_pd.to_csv(os.path.join(results_path, '1_side/hl_pd_isrsa.csv'))\n",
    "isrsa_topo(hl_pd,topo_info,vmin=-0.15,vmax=0.15, title='Helpless & IRI-PD')"
   ]
  },
  {
   "cell_type": "code",
   "execution_count": null,
   "metadata": {},
   "outputs": [],
   "source": [
    "hl_pd_cor = get_fdr(hl_pd)\n",
    "hl_pd_cor.to_csv(os.path.join(results_path, '1_side/hl_pd_isrsa_cor.csv'))"
   ]
  },
  {
   "cell_type": "markdown",
   "metadata": {},
   "source": [
    "### 5. Happy"
   ]
  },
  {
   "cell_type": "markdown",
   "metadata": {},
   "source": [
    "#### Happy PSD & IMQ-SS"
   ]
  },
  {
   "cell_type": "code",
   "execution_count": null,
   "metadata": {},
   "outputs": [],
   "source": [
    "ha_ss = isrsa(ha_psd, behav_simi['ha_ss'], ch_names)\n",
    "ha_ss.to_csv(os.path.join(results_path, '1_side/ha_ss_isrsa.csv'))\n",
    "isrsa_topo(ha_ss,topo_info,vmin=-0.15,vmax=0.15, title='Happy & IMQ-SS')"
   ]
  },
  {
   "cell_type": "code",
   "execution_count": null,
   "metadata": {},
   "outputs": [],
   "source": [
    "ha_ss_cor = get_fdr(ha_ss)\n",
    "ha_ss_cor.to_csv(os.path.join(results_path, '1_side/ha_ss_isrsa_cor.csv'))"
   ]
  },
  {
   "cell_type": "markdown",
   "metadata": {},
   "source": [
    "#### Happy PSD & IMQ-SO"
   ]
  },
  {
   "cell_type": "code",
   "execution_count": null,
   "metadata": {},
   "outputs": [],
   "source": [
    "ha_so = isrsa(ha_psd, behav_simi['ha_so'], ch_names)\n",
    "ha_so.to_csv(os.path.join(results_path, '1_side/ha_so_isrsa.csv'))"
   ]
  },
  {
   "cell_type": "code",
   "execution_count": null,
   "metadata": {},
   "outputs": [],
   "source": [
    "ha_so_cor = get_fdr(ha_so)\n",
    "ha_so_cor.to_csv(os.path.join(results_path, '1_side/ha_so_isrsa_cor.csv'))"
   ]
  },
  {
   "cell_type": "markdown",
   "metadata": {},
   "source": [
    "#### Happy PSD & IRI-FS"
   ]
  },
  {
   "cell_type": "code",
   "execution_count": null,
   "metadata": {},
   "outputs": [],
   "source": [
    "ha_fs = isrsa(ha_psd, behav_simi['ha_fs'], ch_names)\n",
    "ha_fs.to_csv(os.path.join(results_path, '1_side/ha_fs_isrsa.csv'))\n",
    "isrsa_topo(ha_fs,topo_info,vmin=-0.15, vmax=0.15, title='Happy & IRI-FS')"
   ]
  },
  {
   "cell_type": "code",
   "execution_count": null,
   "metadata": {},
   "outputs": [],
   "source": [
    "ha_fs_cor = get_fdr(ha_fs)\n",
    "ha_fs_cor.to_csv(os.path.join(results_path, '1_side/ha_fs_isrsa_cor.csv'))"
   ]
  },
  {
   "cell_type": "markdown",
   "metadata": {},
   "source": [
    "### Section 2: Psychophysiological signal & Scale"
   ]
  },
  {
   "cell_type": "code",
   "execution_count": null,
   "metadata": {},
   "outputs": [],
   "source": [
    "ag_physio_scale = {}\n",
    "for i in ('HR', 'EDR', 'HRV_MeanNN', 'HRV_SDNN'):\n",
    "    for j in ('ag_ss', 'ag_so', 'ag_ec', 'ag_pd'):\n",
    "        m1, m2 = ag_physio[i], behav_simi[j]\n",
    "        r = spearmanr(m1, m2)\n",
    "        p = permutation_corr(m1,m2,method='spearman', iter=10000)\n",
    "        tp = 'Angry ' + i +  ' & ' + j\n",
    "        ag_physio_scale[tp] = r\n",
    "        if p <= 0.05:\n",
    "            print('Angry ' + i +  ' & ' + j + ' correlation=' + str(r) + ' p=' + str(p))\n",
    "        else:\n",
    "            pass\n",
    "\n",
    "ag_physio_scale"
   ]
  },
  {
   "cell_type": "code",
   "execution_count": null,
   "metadata": {},
   "outputs": [],
   "source": [
    "ax_physio_scale = {}\n",
    "for i in ('HR', 'EDR', 'HRV_MeanNN', 'HRV_SDNN'):\n",
    "    for j in ('ax_ss', 'ax_so', 'ax_ec', 'ax_pd'):\n",
    "        m1, m2 = ax_physio[i], behav_simi[j]\n",
    "        r = spearmanr(m1, m2)\n",
    "        p = permutation_corr(m1, m2, method='spearman', iter=10000)\n",
    "        tp = 'Anxiety ' + i +  ' & ' + j\n",
    "        ax_physio_scale[tp] = r\n",
    "        if p <= 0.05:\n",
    "            print('Anxiety ' + i +  ' & ' + j + ' correlation=' + str(r) + ' p=' + str(p))\n",
    "        else:\n",
    "            pass\n",
    "\n",
    "ax_physio_scale"
   ]
  },
  {
   "cell_type": "code",
   "execution_count": null,
   "metadata": {},
   "outputs": [],
   "source": [
    "fe_physio_scale = {}\n",
    "for i in ('HR', 'EDR', 'HRV_MeanNN', 'HRV_SDNN'):\n",
    "    for j in ('fe_ss', 'fe_so', 'fe_ec', 'fe_pd'):\n",
    "        m1, m2 = fe_physio[i], behav_simi[j]\n",
    "        r = spearmanr(m1, m2)\n",
    "        p = permutation_corr(m1, m2, method='spearman', iter=10000)\n",
    "        tp = 'Fear ' + i +  ' & ' + j\n",
    "        fe_physio_scale[tp] = r\n",
    "        if p <= 0.05:\n",
    "            print('Fear ' + i +  ' & ' + j + ' correlation=' + str(r) + ' p=' + str(p))\n",
    "        else:\n",
    "            pass\n",
    "\n",
    "fe_physio_scale"
   ]
  },
  {
   "cell_type": "code",
   "execution_count": null,
   "metadata": {},
   "outputs": [],
   "source": [
    "hl_physio_scale = {}\n",
    "for i in ('HR', 'EDR', 'HRV_MeanNN', 'HRV_SDNN'):\n",
    "    for j in ('hl_ss', 'hl_so', 'hl_ec', 'hl_pd'):\n",
    "        m1, m2 = hl_physio[i], behav_simi[j]\n",
    "        r = spearmanr(m1, m2)\n",
    "        p = permutation_corr(m1, m2, method='spearman', iter=10000)\n",
    "        tp = 'Helpless ' + i +  ' & ' + j\n",
    "        hl_physio_scale[tp] = r\n",
    "        if p <= 0.05:\n",
    "            print('Helpless ' + i +  ' & ' + j + ' correlation=' + str(r) + ' p=' + str(p))\n",
    "        else:\n",
    "            pass\n",
    "\n",
    "hl_physio_scale"
   ]
  },
  {
   "cell_type": "code",
   "execution_count": null,
   "metadata": {},
   "outputs": [],
   "source": [
    "ha_physio_scale = {}\n",
    "for i in ('HR', 'EDR', 'HRV_MeanNN', 'HRV_SDNN'):\n",
    "    for j in ('ha_ss', 'ha_so', 'ha_fs'):\n",
    "        m1, m2 = ha_physio[i], behav_simi[j]\n",
    "        r = spearmanr(m1, m2)\n",
    "        p = permutation_corr(m1, m2, method='spearman', iter=10000)\n",
    "        tp = 'Happy ' + i +  ' & ' + j\n",
    "        ha_physio_scale[tp] = r\n",
    "        if p <= 0.05:\n",
    "            print('Happy ' + i +  ' & ' + j + ' correlation=' + str(r) + ' p=' + str(p))\n",
    "        else:\n",
    "            pass\n",
    "\n",
    "ha_physio_scale"
   ]
  },
  {
   "cell_type": "code",
   "execution_count": null,
   "metadata": {},
   "outputs": [],
   "source": [
    "physio_scale= pd.concat([ag_physio_scale, ax_physio_scale, fe_physio_scale, hl_physio_scale, ha_physio_scale], axis=0)\n",
    "physio_scale.to_csv(os.path.join(results_dir, 'physio_scale.csv'))"
   ]
  }
 ],
 "metadata": {
  "interpreter": {
   "hash": "0637cefd005ce32f53abe336a7c6e0206dbf0dc1ed7f0aa326c4767b89ff415c"
  },
  "kernelspec": {
   "display_name": "Python 3.8.11 64-bit ('EEG': conda)",
   "name": "python3"
  },
  "language_info": {
   "codemirror_mode": {
    "name": "ipython",
    "version": 3
   },
   "file_extension": ".py",
   "mimetype": "text/x-python",
   "name": "python",
   "nbconvert_exporter": "python",
   "pygments_lexer": "ipython3",
   "version": "3.8.11"
  },
  "orig_nbformat": 4
 },
 "nbformat": 4,
 "nbformat_minor": 2
}
