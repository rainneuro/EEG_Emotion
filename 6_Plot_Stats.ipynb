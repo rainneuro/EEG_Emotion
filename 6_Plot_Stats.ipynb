{
 "cells": [
  {
   "cell_type": "markdown",
   "metadata": {},
   "source": [
    "## Script for Plotting & Stats"
   ]
  },
  {
   "cell_type": "code",
   "execution_count": null,
   "metadata": {},
   "outputs": [],
   "source": [
    "%matplotlib inline\n",
    "import os\n",
    "import mne\n",
    "import pandas as pd\n",
    "import numpy as np\n",
    "from neurora.stuff import permutation_corr\n",
    "from mne.viz import plot_topomap\n",
    "from mne.stats import fdr_correction\n",
    "import matplotlib.pyplot as plt\n",
    "import seaborn as sns\n",
    "import plotly.express as px\n",
    "from jupyterthemes import jtplot\n",
    "jtplot.style(theme='grade3') \n",
    "from Function import spearmanr, permutation_cor\n",
    "\n",
    "# Define the path\n",
    "eeg_path = 'F:/1_Emotion_Data/Results/0_ISC/EEG/'\n",
    "behav_path = 'F:/1_Emotion_Data/Data/Behavior/Data/Social_Scale/'\n",
    "physio_path = 'F:/1_Emotion_Data/Results/0_ISC/ISC_CSV/Physiology/'\n",
    "results_path = 'F:/1_Emotion_Data/Results/1_IS_RSA/'\n",
    "plot_path = 'F:/1_Emotion_Data/Results/2_Plots/'"
   ]
  },
  {
   "cell_type": "code",
   "execution_count": null,
   "metadata": {},
   "outputs": [],
   "source": [
    "# Use the mne.read_epochs_eeglab() to read the preprocessed data\n",
    "demo = mne.read_epochs_eeglab('F:/1_Emotion_Data/Data/EEG/Angry/ag1/sub_001_ag1.set')\n",
    "montage = mne.channels.read_custom_montage('F:/1_Emotion_Data/Data/EEG/Emotion.loc')\n",
    "demo.set_montage(montage)\n",
    "\n",
    "# Obtain channel & montage information for topo-plot\n",
    "topo_info = demo.info\n",
    "# Obtain the channel names as a list\n",
    "ch_names = demo.ch_names\n",
    "# Crate a index list for channels\n",
    "ch_idx = list(range(63))\n",
    "# Combine the channels and index and convert to a dict\n",
    "ch = dict(zip(ch_names, ch_idx))\n",
    "print(ch['TP8'])"
   ]
  },
  {
   "cell_type": "code",
   "execution_count": null,
   "metadata": {},
   "outputs": [],
   "source": [
    "def isc_topo(r_topo,topo_info,vmin,vmax,title):\n",
    "    fig,(ax1, ax2, ax3, ax4, ax5) = plt.subplots(ncols=5, figsize=(25,15))\n",
    "    im,_ = plot_topomap(r_topo[:,0], topo_info, axes=ax1, show=False, vmin=0, vmax=0.15, cmap='Reds',sphere=0.13)\n",
    "    im,_ = plot_topomap(r_topo[:,1], topo_info, axes=ax2, show=False, vmin=0, vmax=0.15,  cmap='Reds',sphere=0.13)    \n",
    "    im,_ = plot_topomap(r_topo[:,2], topo_info, axes=ax3, show=False, vmin=0, vmax=0.15,  cmap='Reds',sphere=0.13)    \n",
    "    im,_ = plot_topomap(r_topo[:,3], topo_info, axes=ax4, show=False, vmin=0, vmax=0.15, cmap='Reds',sphere=0.13)    \n",
    "    im,_ = plot_topomap(r_topo[:,4], topo_info, axes=ax5, show=False, vmin=0, vmax=0.15, cmap='Reds',sphere=0.13)  \n",
    "    # ax1.set_title('Delta',fontsize=20) \n",
    "    # ax2.set_title('Theta',fontsize=20) \n",
    "    # ax3.set_title('Alpha',fontsize=20) \n",
    "    # ax4.set_title('Beta',fontsize=20) \n",
    "    # ax5.set_title('Gamma',fontsize=20) \n",
    "    ax_x_start, ax_x_width, ax_y_start, ax_y_height  = 0.95, 0.015, 0.4, 0.25\n",
    "    cbar_ax = fig.add_axes([ax_x_start, ax_y_start, ax_x_width, ax_y_height])\n",
    "    clb = fig.colorbar(im, cax=cbar_ax)\n",
    "    #fig.suptitle(title, x=0.5, y=0.75, fontsize=30, fontweight='bold')\n",
    "    plt.show()\n",
    "    return fig"
   ]
  },
  {
   "cell_type": "code",
   "execution_count": null,
   "metadata": {},
   "outputs": [],
   "source": [
    "def mean_isc(r_topo):\n",
    "    print('The overall isc value of delta is ' + str(r_topo[:,0].mean()))\n",
    "    print('The overall isc value of theta is ' + str(r_topo[:,1].mean()))\n",
    "    print('The overall isc value of alpha is ' + str(r_topo[:,2].mean()))\n",
    "    print('The overall isc value of beta is ' + str(r_topo[:,3].mean()))\n",
    "    print('The overall isc value of gamma is ' + str(r_topo[:,4].mean()))"
   ]
  },
  {
   "cell_type": "code",
   "execution_count": null,
   "metadata": {},
   "outputs": [],
   "source": [
    "def isrsa_topo(isrsa_matrix,topo_info,vmin,vmax,title):\n",
    "    fig,(ax1, ax2, ax3, ax4, ax5) = plt.subplots(ncols=5, figsize=(25,15))\n",
    "\n",
    "    mask = obtain_mask(isrsa_matrix['delta_p_cor'], ch_idx)\n",
    "    im,_ = plot_topomap(isrsa_matrix['delta_r'], topo_info, axes=ax1, show=False, mask=mask, mask_params=dict(marker='o',markersize=7, markerfacecolor='black'), vmin=vmin, vmax=vmax,cmap='RdBu_r',sphere=0.13)\n",
    "    mask = obtain_mask(isrsa_matrix['theta_p_cor'], ch_idx)\n",
    "    im,_ = plot_topomap(isrsa_matrix['theta_r'], topo_info, axes=ax2, show=False, mask=mask, mask_params=dict(marker='o',markersize=7, markerfacecolor='black'), vmin=vmin, vmax=vmax,  cmap='RdBu_r',sphere=0.13)\n",
    "    mask = obtain_mask(isrsa_matrix['alpha_p_cor'], ch_idx)    \n",
    "    im,_ = plot_topomap(isrsa_matrix['alpha_r'], topo_info, axes=ax3, show=False, mask=mask, mask_params=dict(marker='o',markersize=7, markerfacecolor='black'), vmin=vmin, vmax=vmax,  cmap='RdBu_r',sphere=0.13)\n",
    "    mask = obtain_mask(isrsa_matrix['beta_p_cor'], ch_idx)    \n",
    "    im,_ = plot_topomap(isrsa_matrix['beta_r'], topo_info, axes=ax4, show=False, mask=mask, mask_params=dict(marker='o',markersize=7, markerfacecolor='black'), vmin=vmin, vmax=vmax, cmap='RdBu_r',sphere=0.13)\n",
    "    mask = obtain_mask(isrsa_matrix['gamma_p_cor'], ch_idx)    \n",
    "    im,_ = plot_topomap(isrsa_matrix['gamma_r'], topo_info, axes=ax5, show=False, mask=mask, mask_params=dict(marker='o',markersize=7, markerfacecolor='black'), vmin=vmin, vmax=vmax, cmap='RdBu_r',sphere=0.13)\n",
    "\n",
    "    ax1.set_title('Delta',fontsize=20) \n",
    "    ax2.set_title('Theta',fontsize=20) \n",
    "    ax3.set_title('Alpha',fontsize=20) \n",
    "    ax4.set_title('Beta',fontsize=20) \n",
    "    ax5.set_title('Gamma',fontsize=20) \n",
    "    ax_x_start, ax_x_width, ax_y_start, ax_y_height  = 0.95, 0.02, 0.4, 0.3\n",
    "    cbar_ax = fig.add_axes([ax_x_start, ax_y_start, ax_x_width, ax_y_height])\n",
    "    clb = fig.colorbar(im, cax=cbar_ax)\n",
    "    fig.suptitle(title, x=0.5, y=0.75, fontsize=25, fontweight='bold')\n",
    "    plt.show()\n",
    "    # plt.savefig('F:/1_Emotion_Data/Results/2_Plots/ISRSA/ag_so.png',bbox_inches='tight',dpi=600,pad_inches=0.1)\n",
    "    # plt.close()\n",
    "    return fig"
   ]
  },
  {
   "cell_type": "code",
   "execution_count": null,
   "metadata": {},
   "outputs": [],
   "source": [
    "# Obtain mask\n",
    "def obtain_mask(p_vector, ch_idx):  \n",
    "    tp = np.array(p_vector)\n",
    "    for i in ch_idx: \n",
    "        p = tp[i]\n",
    "        if p <= 0.05:\n",
    "            tp[i] = True\n",
    "        else:\n",
    "            tp[i] = False\n",
    "    return tp"
   ]
  },
  {
   "cell_type": "markdown",
   "metadata": {},
   "source": [
    "### Section 1: ISC Topoplot"
   ]
  },
  {
   "cell_type": "markdown",
   "metadata": {},
   "source": [
    "#### Angry"
   ]
  },
  {
   "cell_type": "code",
   "execution_count": null,
   "metadata": {},
   "outputs": [],
   "source": [
    "ag_isc = np.load(os.path.join(eeg_path, 'ag_isc_matrix.npy'), allow_pickle=True).item()\n",
    "ag_r_topo = ag_isc['r_topo']\n",
    "topo = isc_topo(ag_r_topo,topo_info,vmin=0,vmax=0.15,title='Angry PSD Intersubject Similarity')\n",
    "#topo.savefig(os.path.join(plot_path,'ISC/EEG/ag_isc.png'),bbox_inches='tight',dpi=600,pad_inches=0.1)"
   ]
  },
  {
   "cell_type": "code",
   "execution_count": null,
   "metadata": {},
   "outputs": [],
   "source": [
    "mean_isc(ag_r_topo)"
   ]
  },
  {
   "cell_type": "markdown",
   "metadata": {},
   "source": [
    "### Anxiety"
   ]
  },
  {
   "cell_type": "code",
   "execution_count": null,
   "metadata": {},
   "outputs": [],
   "source": [
    "ax_isc = np.load(os.path.join(eeg_path, 'ax_isc_matrix.npy'), allow_pickle=True).item()\n",
    "ax_r_topo = ax_isc['r_topo']\n",
    "topo = isc_topo(ax_r_topo,topo_info,vmin=0,vmax=0.15,title='Anxiety PSD Intersubject Similarity')\n",
    "#topo.savefig(os.path.join(plot_path,'ISC/EEG/ax_isc.png'),bbox_inches='tight',dpi=600,pad_inches=0.1)"
   ]
  },
  {
   "cell_type": "code",
   "execution_count": null,
   "metadata": {},
   "outputs": [],
   "source": [
    "mean_isc(ax_r_topo)"
   ]
  },
  {
   "cell_type": "markdown",
   "metadata": {},
   "source": [
    "### Fear"
   ]
  },
  {
   "cell_type": "code",
   "execution_count": null,
   "metadata": {},
   "outputs": [],
   "source": [
    "fe_isc = np.load(os.path.join(eeg_path, 'fe_isc_matrix.npy'), allow_pickle=True).item()\n",
    "fe_r_topo = fe_isc['r_topo']\n",
    "topo = isc_topo(fe_r_topo,topo_info,vmin=0,vmax=0.15,title='Fear PSD Intersubject Similarity')\n",
    "#topo.savefig(os.path.join(plot_path,'ISC/EEG/fe_isc.png'),bbox_inches='tight',dpi=600,pad_inches=0.1)"
   ]
  },
  {
   "cell_type": "code",
   "execution_count": null,
   "metadata": {},
   "outputs": [],
   "source": [
    "mean_isc(fe_r_topo)"
   ]
  },
  {
   "cell_type": "markdown",
   "metadata": {},
   "source": [
    "### Helpless"
   ]
  },
  {
   "cell_type": "code",
   "execution_count": null,
   "metadata": {},
   "outputs": [],
   "source": [
    "hl_isc = np.load(os.path.join(eeg_path, 'hl_isc_matrix.npy'), allow_pickle=True).item()\n",
    "hl_r_topo = hl_isc['r_topo']\n",
    "topo = isc_topo(hl_r_topo,topo_info,vmin=0,vmax=0.15,title='Helpless PSD Intersubject Similarity')\n",
    "#topo.savefig(os.path.join(plot_path,'ISC/EEG/hl_ss.png'),bbox_inches='tight',dpi=600,pad_inches=0.1)"
   ]
  },
  {
   "cell_type": "code",
   "execution_count": null,
   "metadata": {},
   "outputs": [],
   "source": [
    "mean_isc(hl_r_topo)"
   ]
  },
  {
   "cell_type": "markdown",
   "metadata": {},
   "source": [
    "### Happy"
   ]
  },
  {
   "cell_type": "code",
   "execution_count": null,
   "metadata": {},
   "outputs": [],
   "source": [
    "ha_isc = np.load(os.path.join(eeg_path, 'ha_isc_matrix.npy'), allow_pickle=True).item()\n",
    "ha_r_topo = ha_isc['r_topo']\n",
    "topo = isc_topo(ha_r_topo,topo_info,vmin=0,vmax=0.15,title='Happy PSD Intersubject Similarity')\n",
    "#topo.savefig(os.path.join(plot_path,'ISC/EEG/ha_ss.png'),bbox_inches='tight',dpi=600,pad_inches=0.1)"
   ]
  },
  {
   "cell_type": "code",
   "execution_count": null,
   "metadata": {},
   "outputs": [],
   "source": [
    "mean_isc(ha_r_topo)"
   ]
  },
  {
   "cell_type": "markdown",
   "metadata": {},
   "source": [
    "### Section 2: Behav 3D plot"
   ]
  },
  {
   "cell_type": "code",
   "execution_count": null,
   "metadata": {},
   "outputs": [],
   "source": [
    "imq = pd.read_csv(os.path.join(behav_path, 'IMQ.csv'))\n",
    "iri = pd.read_csv(os.path.join(behav_path, 'IRI.csv'))\n",
    "behav_summary = pd.concat([imq['SO'], imq['SS'], imq['OS'], iri['EC'], iri['PD'], iri['FS'], iri['PT']], axis=1)"
   ]
  },
  {
   "cell_type": "code",
   "execution_count": null,
   "metadata": {},
   "outputs": [],
   "source": [
    "fig = px.scatter_3d(behav_summary, x='SO', y='SS', z='EC')\n",
    "fig.show()"
   ]
  },
  {
   "cell_type": "markdown",
   "metadata": {},
   "source": [
    "### Section 3: IS-RSA Topoplot"
   ]
  },
  {
   "cell_type": "markdown",
   "metadata": {},
   "source": [
    "### Angry"
   ]
  },
  {
   "cell_type": "code",
   "execution_count": null,
   "metadata": {},
   "outputs": [],
   "source": [
    "ag_ss = pd.read_csv(os.path.join(results_path, '1_side/ag_ss_isrsa_cor.csv'))\n",
    "topo = isrsa_topo(ag_ss,topo_info,vmin=-0.15,vmax=0.15,title='Angry & IMQ-SS ISRSA')\n",
    "topo.savefig(os.path.join(plot_path,'ag_ss.png'),bbox_inches='tight',dpi=600,pad_inches=0.1)"
   ]
  },
  {
   "cell_type": "code",
   "execution_count": null,
   "metadata": {},
   "outputs": [],
   "source": [
    "ag_so = pd.read_csv(os.path.join(results_path, '1_side/ag_so_isrsa_cor.csv'))\n",
    "topo = isrsa_topo(ag_so,topo_info,vmin=-0.15,vmax=0.15,title='Angry & IMQ-SO ISRSA')\n",
    "topo.savefig(os.path.join(plot_path,'ag_so.png'),bbox_inches='tight',dpi=600,pad_inches=0.1)"
   ]
  },
  {
   "cell_type": "code",
   "execution_count": null,
   "metadata": {},
   "outputs": [],
   "source": [
    "ag_ec = pd.read_csv(os.path.join(results_path, '1_side/ag_ec_isrsa_cor.csv'))\n",
    "topo = isrsa_topo(ag_ec,topo_info,vmin=-0.15,vmax=0.15,title='Angry & IRI-EC ISRSA')\n",
    "topo.savefig(os.path.join(plot_path,'ag_ec.png'),bbox_inches='tight',dpi=600,pad_inches=0.1)"
   ]
  },
  {
   "cell_type": "code",
   "execution_count": null,
   "metadata": {},
   "outputs": [],
   "source": [
    "ag_pd = pd.read_csv(os.path.join(results_path, '1_side/ag_pd_isrsa_cor.csv'))\n",
    "topo = isrsa_topo(ag_pd,topo_info,vmin=-0.15,vmax=0.15,title='Angry & IRI-PD ISRSA')\n",
    "topo.savefig(os.path.join(plot_path,'ag_pd.png'),bbox_inches='tight',dpi=600,pad_inches=0.1)"
   ]
  },
  {
   "cell_type": "markdown",
   "metadata": {},
   "source": [
    "### Anxiety"
   ]
  },
  {
   "cell_type": "code",
   "execution_count": null,
   "metadata": {},
   "outputs": [],
   "source": [
    "ax_ss = pd.read_csv(os.path.join(results_path, '1_side/ax_ss_isrsa_cor.csv'))\n",
    "topo = isrsa_topo(ax_ss,topo_info,vmin=-0.15,vmax=0.15,title='Anxious & IMQ-SS ISRSA')\n",
    "topo.savefig(os.path.join(plot_path,'ax_ss.png'),bbox_inches='tight',dpi=600,pad_inches=0.1)"
   ]
  },
  {
   "cell_type": "code",
   "execution_count": null,
   "metadata": {},
   "outputs": [],
   "source": [
    "ax_so = pd.read_csv(os.path.join(results_path, '1_side/ax_so_isrsa_cor.csv'))\n",
    "topo = isrsa_topo(ax_so,topo_info,vmin=-0.15,vmax=0.15,title='Anxious & IMQ-SO ISRSA')\n",
    "topo.savefig(os.path.join(plot_path,'ax_so.png'),bbox_inches='tight',dpi=600,pad_inches=0.1)"
   ]
  },
  {
   "cell_type": "code",
   "execution_count": null,
   "metadata": {},
   "outputs": [],
   "source": [
    "ax_ec = pd.read_csv(os.path.join(results_path, '1_side/ax_ec_isrsa_cor.csv'))\n",
    "topo = isrsa_topo(ax_ec,topo_info,vmin=-0.15,vmax=0.15,title='Anxious & IRI-EC ISRSA')\n",
    "topo.savefig(os.path.join(plot_path,'ax_ec.png'),bbox_inches='tight',dpi=600,pad_inches=0.1)"
   ]
  },
  {
   "cell_type": "code",
   "execution_count": null,
   "metadata": {},
   "outputs": [],
   "source": [
    "ax_pd = pd.read_csv(os.path.join(results_path, '1_side/ax_pd_isrsa_cor.csv'))\n",
    "topo = isrsa_topo(ax_pd,topo_info,vmin=-0.15,vmax=0.15,title='Anxious & IRI-PD ISRSA')\n",
    "topo.savefig(os.path.join(plot_path,'ax_pd.png'),bbox_inches='tight',dpi=600,pad_inches=0.1)"
   ]
  },
  {
   "cell_type": "markdown",
   "metadata": {},
   "source": [
    "### Fear"
   ]
  },
  {
   "cell_type": "code",
   "execution_count": null,
   "metadata": {},
   "outputs": [],
   "source": [
    "fe_ss = pd.read_csv(os.path.join(results_path, '1_side/fe_ss_isrsa_cor.csv'))\n",
    "topo = isrsa_topo(fe_ss,topo_info,vmin=-0.15,vmax=0.15,title='Fearful & IMQ-SS ISRSA')\n",
    "topo.savefig(os.path.join(plot_path,'fe_ss.png'),bbox_inches='tight',dpi=600,pad_inches=0.1)"
   ]
  },
  {
   "cell_type": "code",
   "execution_count": null,
   "metadata": {},
   "outputs": [],
   "source": [
    "fe_so = pd.read_csv(os.path.join(results_path, '1_side/fe_so_isrsa_cor.csv'))\n",
    "topo = isrsa_topo(fe_so,topo_info,vmin=-0.15,vmax=0.15,title='Fearful & IMQ-SO ISRSA')\n",
    "topo.savefig(os.path.join(plot_path,'fe_so.png'),bbox_inches='tight',dpi=600,pad_inches=0.1)"
   ]
  },
  {
   "cell_type": "code",
   "execution_count": null,
   "metadata": {},
   "outputs": [],
   "source": [
    "fe_ec = pd.read_csv(os.path.join(results_path, '1_side/fe_ec_isrsa_cor.csv'))\n",
    "topo = isrsa_topo(fe_ec,topo_info,vmin=-0.15,vmax=0.15,title='Fearful & IRI-EC ISRSA')\n",
    "topo.savefig(os.path.join(plot_path,'fe_ec.png'),bbox_inches='tight',dpi=600,pad_inches=0.1)"
   ]
  },
  {
   "cell_type": "code",
   "execution_count": null,
   "metadata": {},
   "outputs": [],
   "source": [
    "fe_pd = pd.read_csv(os.path.join(results_path, '1_side/fe_pd_isrsa_cor.csv'))\n",
    "topo = isrsa_topo(fe_pd,topo_info,vmin=-0.15,vmax=0.15,title='Fearful & IRI-PD ISRSA')\n",
    "topo.savefig(os.path.join(plot_path,'fe_pd.png'),bbox_inches='tight',dpi=600,pad_inches=0.1)"
   ]
  },
  {
   "cell_type": "markdown",
   "metadata": {},
   "source": [
    "### Helpless"
   ]
  },
  {
   "cell_type": "code",
   "execution_count": null,
   "metadata": {},
   "outputs": [],
   "source": [
    "hl_ss = pd.read_csv(os.path.join(results_path, '1_side/hl_ss_isrsa_cor.csv'))\n",
    "topo = isrsa_topo(hl_ss,topo_info,vmin=-0.15,vmax=0.15,title='Helpless & IMQ-SS ISRSA')\n",
    "topo.savefig(os.path.join(plot_path,'hl_ss.png'),bbox_inches='tight',dpi=600,pad_inches=0.1)"
   ]
  },
  {
   "cell_type": "code",
   "execution_count": null,
   "metadata": {},
   "outputs": [],
   "source": [
    "hl_so = pd.read_csv(os.path.join(results_path, '1_side/hl_so_isrsa_cor.csv'))\n",
    "topo = isrsa_topo(hl_so,topo_info,vmin=-0.15,vmax=0.15,title='Helpless & IMQ-SO ISRSA')\n",
    "topo.savefig(os.path.join(plot_path,'hl_so.png'),bbox_inches='tight',dpi=600,pad_inches=0.1)"
   ]
  },
  {
   "cell_type": "code",
   "execution_count": null,
   "metadata": {},
   "outputs": [],
   "source": [
    "hl_ec = pd.read_csv(os.path.join(results_path, '1_side/hl_ec_isrsa_cor.csv'))\n",
    "topo = isrsa_topo(hl_ec,topo_info,vmin=-0.15,vmax=0.15,title='Helpless & IRI-EC ISRSA')\n",
    "topo.savefig(os.path.join(plot_path,'hl_ec.png'),bbox_inches='tight',dpi=600,pad_inches=0.1)"
   ]
  },
  {
   "cell_type": "code",
   "execution_count": null,
   "metadata": {},
   "outputs": [],
   "source": [
    "hl_pd = pd.read_csv(os.path.join(results_path, '1_side/hl_pd_isrsa_cor.csv'))\n",
    "topo = isrsa_topo(hl_pd,topo_info,vmin=-0.15,vmax=0.15,title='Helpless & IRI-PD ISRSA')\n",
    "topo.savefig(os.path.join(plot_path,'hl_pd.png'),bbox_inches='tight',dpi=600,pad_inches=0.1)"
   ]
  },
  {
   "cell_type": "markdown",
   "metadata": {},
   "source": [
    "### Happy"
   ]
  },
  {
   "cell_type": "code",
   "execution_count": null,
   "metadata": {},
   "outputs": [],
   "source": [
    "ha_ss = pd.read_csv(os.path.join(results_path, '1_side/ha_ss_isrsa_cor.csv'))\n",
    "topo = isrsa_topo(ha_ss,topo_info,vmin=-0.15,vmax=0.15,title='Happy & IMQ-SS ISRSA')\n",
    "topo.savefig(os.path.join(figure_path,'ha_ss.png'),bbox_inches='tight',dpi=600,pad_inches=0.1)"
   ]
  },
  {
   "cell_type": "code",
   "execution_count": null,
   "metadata": {},
   "outputs": [],
   "source": [
    "ha_so = pd.read_csv(os.path.join(results_path, '1_side/ha_so_isrsa_cor.csv'))\n",
    "topo = isrsa_topo(ha_so,topo_info,vmin=-0.15,vmax=0.15,title='Happy & IMQ-SO ISRSA')\n",
    "topo.savefig(os.path.join(figure_path,'ha_so.png'),bbox_inches='tight',dpi=600,pad_inches=0.1)"
   ]
  },
  {
   "cell_type": "code",
   "execution_count": null,
   "metadata": {},
   "outputs": [],
   "source": [
    "ha_fs = pd.read_csv(os.path.join(results_path, '1_side/ha_fs_isrsa_cor.csv'))\n",
    "topo = isrsa_topo(ha_fs,topo_info,vmin=-0.15,vmax=0.15,title='Happy & IRI-FS ISRSA')\n",
    "topo.savefig(os.path.join(figure_path,'ha_fs.png'),bbox_inches='tight',dpi=600,pad_inches=0.1)"
   ]
  },
  {
   "cell_type": "markdown",
   "metadata": {},
   "source": [
    "### Physiology avearge ISC"
   ]
  },
  {
   "cell_type": "code",
   "execution_count": null,
   "metadata": {},
   "outputs": [],
   "source": [
    "ag_physio = pd.read_csv(os.path.join(physio_path, 'ag_physio_isc.csv'))\n",
    "ax_physio = pd.read_csv(os.path.join(physio_path, 'ax_physio_isc.csv'))\n",
    "fe_physio = pd.read_csv(os.path.join(physio_path, 'fe_physio_isc.csv'))\n",
    "hl_physio = pd.read_csv(os.path.join(physio_path, 'hl_physio_isc.csv'))\n",
    "ha_physio = pd.read_csv(os.path.join(physio_path, 'ha_physio_isc.csv'))"
   ]
  },
  {
   "cell_type": "code",
   "execution_count": null,
   "metadata": {},
   "outputs": [],
   "source": [
    "print('Angry HR mean ISC = ' + str(ag_physio['HR'].mean()))\n",
    "print('Angry EDR mean ISC = ' + str(ag_physio['EDR'].mean()))\n",
    "print('Angry HRV mean ISC = ' + str(ag_physio['HRV_MeanNN'].mean()))"
   ]
  },
  {
   "cell_type": "code",
   "execution_count": null,
   "metadata": {},
   "outputs": [],
   "source": [
    "print('Anxiety HR mean ISC = ' + str(ax_physio['HR'].mean()))\n",
    "print('Anxiety EDR mean ISC = ' + str(ax_physio['EDR'].mean()))\n",
    "print('Anxiety HRV mean ISC = ' + str(ax_physio['HRV_MeanNN'].mean()))"
   ]
  },
  {
   "cell_type": "code",
   "execution_count": null,
   "metadata": {},
   "outputs": [],
   "source": [
    "print('Fear HR mean ISC = ' + str(fe_physio['HR'].mean()))\n",
    "print('Fear EDR mean ISC = ' + str(fe_physio['EDR'].mean()))\n",
    "print('Fear HRV mean ISC = ' + str(fe_physio['HRV_MeanNN'].mean()))"
   ]
  },
  {
   "cell_type": "code",
   "execution_count": null,
   "metadata": {},
   "outputs": [],
   "source": [
    "print('Helpless HR mean ISC = ' + str(hl_physio['HR'].mean()))\n",
    "print('Helpless EDR mean ISC = ' + str(hl_physio['EDR'].mean()))\n",
    "print('Helpless HRV mean ISC = ' + str(hl_physio['HRV_MeanNN'].mean()))"
   ]
  },
  {
   "cell_type": "code",
   "execution_count": null,
   "metadata": {},
   "outputs": [],
   "source": [
    "print('Happy HR mean ISC = ' + str(ha_physio['HR'].mean()))\n",
    "print('Happy EDR mean ISC = ' + str(ha_physio['EDR'].mean()))\n",
    "print('Happy HRV mean ISC = ' + str(ha_physio['HRV_MeanNN'].mean()))"
   ]
  },
  {
   "cell_type": "markdown",
   "metadata": {},
   "source": [
    "### Physiology ISC matrices"
   ]
  },
  {
   "cell_type": "code",
   "execution_count": null,
   "metadata": {},
   "outputs": [],
   "source": [
    "ecg_dir = 'F:/1_Emotion_Data/Results/0_ISC/Physiology/'\n",
    "physio_plot_path = 'F:/1_Emotion_Data/Results/2_Plots/ISC/Physiology/'\n",
    "\n",
    "ag_hr_simi = np.load(os.path.join(ecg_dir, 'ag_hr_isc.npy'), allow_pickle=True)\n",
    "ag_hrv_simi = np.load(os.path.join(ecg_dir, 'ag_hrvm_isc.npy'), allow_pickle=True)\n",
    "\n",
    "ax_hr_simi = np.load(os.path.join(ecg_dir, 'ax_hr_isc.npy'), allow_pickle=True)\n",
    "ax_hrv_simi = np.load(os.path.join(ecg_dir, 'ax_hrvm_isc.npy'), allow_pickle=True)\n",
    "\n",
    "fe_hr_simi = np.load(os.path.join(ecg_dir, 'fe_hr_isc.npy'), allow_pickle=True)\n",
    "fe_hrv_simi = np.load(os.path.join(ecg_dir, 'fe_hrvm_isc.npy'), allow_pickle=True)\n",
    "\n",
    "hl_hr_simi = np.load(os.path.join(ecg_dir, 'hl_hr_isc.npy'), allow_pickle=True)\n",
    "hl_hrv_simi = np.load(os.path.join(ecg_dir, 'hl_hrvm_isc.npy'), allow_pickle=True)\n",
    "\n",
    "ha_hr_simi = np.load(os.path.join(ecg_dir, 'ha_hr_isc.npy'), allow_pickle=True)\n",
    "ha_hrv_simi = np.load(os.path.join(ecg_dir, 'ha_hrvm_isc.npy'), allow_pickle=True)"
   ]
  },
  {
   "cell_type": "code",
   "execution_count": null,
   "metadata": {},
   "outputs": [],
   "source": [
    "fig, (ax1, ax2) = plt.subplots(1,2, figsize=(20,8))\n",
    "sns.heatmap(ag_hr_simi, square=True, cmap='RdBu_r', linewidths=0.1, ax=ax1, xticklabels=False, yticklabels=False, cbar_kws={'label': 'similarity', \"shrink\": 0.8})\n",
    "ax1.set_title(\"Angry HR ISC\", fontsize=25, fontweight='bold')\n",
    "sns.heatmap(ag_hrv_simi, square=True, cmap='RdBu_r', linewidths=0.1, ax=ax2, xticklabels=False, yticklabels=False, cbar_kws={'label': 'similarity', \"shrink\": 0.8})\n",
    "ax2.set_title(\"Angry HRV ISC\", fontsize=25, fontweight='bold')"
   ]
  },
  {
   "cell_type": "code",
   "execution_count": null,
   "metadata": {},
   "outputs": [],
   "source": [
    "fig, (ax1, ax2) = plt.subplots(1,2, figsize=(20,8))\n",
    "sns.heatmap(ax_hr_simi, square=True, cmap='RdBu_r', linewidths=0.1, ax=ax1, xticklabels=False, yticklabels=False, cbar_kws={'label': 'similarity', \"shrink\": 0.8})\n",
    "ax1.set_title(\"Anxious HR ISC\", fontsize=25, fontweight='bold')\n",
    "sns.heatmap(ax_hrv_simi, square=True, cmap='RdBu_r', linewidths=0.1, ax=ax2, xticklabels=False, yticklabels=False, cbar_kws={'label': 'similarity', \"shrink\": 0.8})\n",
    "ax2.set_title(\"Anxious HRV ISC\", fontsize=25, fontweight='bold')"
   ]
  },
  {
   "cell_type": "code",
   "execution_count": null,
   "metadata": {},
   "outputs": [],
   "source": [
    "fig, (ax1, ax2) = plt.subplots(1,2, figsize=(20,8))\n",
    "sns.heatmap(fe_hr_simi, square=True, cmap='RdBu_r', linewidths=0.1, ax=ax1, xticklabels=False, yticklabels=False, cbar_kws={'label': 'similarity', \"shrink\": 0.8})\n",
    "ax1.set_title(\"Fearful HR ISC\", fontsize=25, fontweight='bold')\n",
    "sns.heatmap(fe_hrv_simi, square=True, cmap='RdBu_r', linewidths=0.1, ax=ax2, xticklabels=False, yticklabels=False, cbar_kws={'label': 'similarity', \"shrink\": 0.8})\n",
    "ax2.set_title(\"Faerful HRV ISC\", fontsize=25, fontweight='bold')"
   ]
  },
  {
   "cell_type": "code",
   "execution_count": null,
   "metadata": {},
   "outputs": [],
   "source": [
    "fig, (ax1, ax2) = plt.subplots(1,2, figsize=(20,8))\n",
    "sns.heatmap(hl_hr_simi, square=True, cmap='RdBu_r', linewidths=0.1, ax=ax1, xticklabels=False, yticklabels=False, cbar_kws={'label': 'similarity', \"shrink\": 0.8})\n",
    "ax1.set_title(\"Helpless HR ISC\", fontsize=25, fontweight='bold')\n",
    "sns.heatmap(hl_hrv_simi, square=True, cmap='RdBu_r', linewidths=0.1, ax=ax2, xticklabels=False, yticklabels=False, cbar_kws={'label': 'similarity', \"shrink\": 0.8})\n",
    "ax2.set_title(\"Helpless HRV ISC\", fontsize=25, fontweight='bold')"
   ]
  },
  {
   "cell_type": "code",
   "execution_count": null,
   "metadata": {},
   "outputs": [],
   "source": [
    "fig, (ax1, ax2) = plt.subplots(1,2, figsize=(20,8))\n",
    "sns.heatmap(ha_hr_simi, square=True, cmap='RdBu_r', linewidths=0.1, ax=ax1, xticklabels=False, yticklabels=False, cbar_kws={'label': 'similarity', \"shrink\": 0.8})\n",
    "ax1.set_title(\"Happy HR ISC\", fontsize=25, fontweight='bold')\n",
    "sns.heatmap(ha_hrv_simi, square=True, cmap='RdBu_r', linewidths=0.1, ax=ax2, xticklabels=False, yticklabels=False, cbar_kws={'label': 'similarity', \"shrink\": 0.8})\n",
    "ax2.set_title(\"Happy HRV ISC\", fontsize=25, fontweight='bold')"
   ]
  }
 ],
 "metadata": {
  "interpreter": {
   "hash": "0637cefd005ce32f53abe336a7c6e0206dbf0dc1ed7f0aa326c4767b89ff415c"
  },
  "kernelspec": {
   "display_name": "Python 3.8.11 64-bit ('EEG': conda)",
   "name": "python3"
  },
  "language_info": {
   "codemirror_mode": {
    "name": "ipython",
    "version": 3
   },
   "file_extension": ".py",
   "mimetype": "text/x-python",
   "name": "python",
   "nbconvert_exporter": "python",
   "pygments_lexer": "ipython3",
   "version": "3.8.11"
  },
  "orig_nbformat": 4
 },
 "nbformat": 4,
 "nbformat_minor": 2
}
